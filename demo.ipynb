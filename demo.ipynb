{
 "cells": [
  {
   "cell_type": "markdown",
   "metadata": {
    "jukit_cell_id": "tveJZTmZdq"
   },
   "source": [
    "# QCArchive+QCMLForge Demo with CyberShuttle\n",
    "\n",
    "The first half of this demo shows how to use QCArchive to setup a dataset\n",
    "and run computations with ease. The compute resource for this noteboook\n",
    "uses Cybershuttle; however, a purely local resource demo is available under\n",
    "`./demo_local.ipynb`.\n",
    "\n",
    "The second half of this demo shows how one can consume the generated data\n",
    "to train AP-Net models through QCMLForge. \n",
    "\n",
    "## How is this useful?\n",
    "\n",
    "Quantum Chemistry (QC) applies the laws of physics to molecular systems.\n",
    "These laws are known exactly but are too expensive to solve for all but the smallest molecules.\n",
    "Research has designed a number of approximate methods, but accurate ones typically\n",
    "scale from N^4 to N^8 in the number of atoms, making calcuations on a medium-sized\n",
    "molecule still costly and on a protein prohibitive. Methods are typically gathered\n",
    "into QC software like the Psi4 program developed at Georgia Tech that we'll be using today.\n",
    "\n",
    "One class of chemistry that requires particularly accurate QC methods is noncovalent interactions,\n",
    "where molecules interact without sharing or exchanging electrons in a chemical bond.\n",
    "Examples include layers of graphite, protein folding, and capillary action of water.\n",
    "To quantify the attraction, one compares the energy of the two molecules near with the\n",
    "energy of the separate molecules (see interaction energy (IE) below).\n",
    "\n",
    "Prior to using quantum mechanical (QM) methods for applications, often computational\n",
    "chemists will either consult previous studies of benchmarked methods on similar\n",
    "systems, or perform the benchmarking task themselves. Then after quantifying\n",
    "error, the level of theory that balances both expected error and is a reasonable\n",
    "computational cost will be selected for applying to novel system(s).\n",
    "\n",
    "The Sherrill research group has performed quite a few of these benchmarking\n",
    "studies particularly for studying intermolecular interaction energies. These\n",
    "interaction energies basically determine how attractive (or repulsive) molecules\n",
    "behave when brought close together. A more practical definition for an\n",
    "interaction energy (IE) is: \n",
    "\n",
    "$E_{\\rm IE} = E_{\\rm dimer} - E_{\\rm monomerA} - E_{\\rm monomerB}$.\n",
    "\n",
    "Hence, the interaction energy is defined as the energy difference between\n",
    "the dimer (when the two molecules are together) and the molecules on\n",
    "their own (monomerA and monomerB in isolation).\n",
    "\n",
    "Performing a benchmark study requires computing a large number of molecules and tabulating\n",
    "particular properties for analysis. For this, we use the QCArchive software stack\n",
    "that orchestrates compute, database storage, and checkpointing, while particularly\n",
    "storing quantities important for QC. Because we also want to run the calculations\n",
    "quickly, we use the Cybershuttle infrastructure.\n",
    "\n",
    "To demonstrate how one might carryout the computational aspects of a\n",
    "benchmarking study, the present notebook will provide examples of managing\n",
    "datasets with QCArchive and running QM calculations prior to analyzing error\n",
    "statistics with respect to reference energies. The second half of the notebook\n",
    "provides examples on how you could then apply QM data towards training ML models\n",
    "through QCMLForge."
   ]
  },
  {
   "cell_type": "code",
   "execution_count": 1,
   "metadata": {
    "jukit_cell_id": "FHk2C2mAci"
   },
   "outputs": [
    {
     "name": "stdout",
     "output_type": "stream",
     "text": [
      "Note: you may need to restart the kernel to use updated packages.\n",
      "\n",
      "Loaded airavata_jupyter_magic (2.1.4.post4) \n",
      "(current runtime = local)\n",
      "\n",
      "  %authenticate                              -- Authenticate to access high-performance runtimes.\n",
      "  %request_runtime <rt> [args]               -- Request a runtime named <rt> with configuration <args>.\n",
      "                                                Call multiple times to request multiple runtimes.\n",
      "  %restart_runtime <rt>                      -- Restart runtime <rt> if it hangs. This will clear all variables.\n",
      "  %stop_runtime <rt>                         -- Stop runtime <rt> when no longer needed.\n",
      "  %wait_for_runtime <rt>                     -- Wait for runtime <rt> to be ready.\n",
      "  %switch_runtime <rt>                       -- Switch the active runtime to <rt>. All subsequent cells will run here.\n",
      "  %%run_on <rt>                              -- Force a cell to always execute on <rt>, regardless of the active runtime.\n",
      "  %stat_runtime <rt>                         -- Show the status of runtime <rt>.\n",
      "  %copy_data source=<r1:f1> target=<r2:f2>   -- Copy <f1> in <r1> to <f2> in <r2>.\n",
      "  %open_tunnels <tn> --forward=<ports>       -- Open a TCP tunnel on the runtime.\n",
      "  %close_tunnels <tn>                        -- Close a TCP tunnel opened on the runtime.\n",
      "  %run_subprocess <pn> --command=<cmd>\n",
      "                       --forward=<ports>     -- Start a subprocess on the runtime.\n",
      "  %kill_subprocess <pn>                      -- Kill a subprocess started on the runtime.\n",
      "\n"
     ]
    }
   ],
   "source": [
    "%pip install -qU \"airavata-python-sdk[notebook]\"\n",
    "import airavata_jupyter_magic"
   ]
  },
  {
   "cell_type": "code",
   "execution_count": 2,
   "metadata": {
    "jukit_cell_id": "VonilTFkTU"
   },
   "outputs": [
    {
     "data": {
      "application/vnd.jupyter.widget-view+json": {
       "model_id": "1e9d5bc4ff8342fd916c9c9655f30ba9",
       "version_major": 2,
       "version_minor": 0
      },
      "text/plain": [
       "Output()"
      ]
     },
     "metadata": {},
     "output_type": "display_data"
    },
    {
     "data": {
      "text/html": [
       "<pre style=\"white-space:pre;overflow-x:auto;line-height:normal;font-family:Menlo,'DejaVu Sans Mono',consolas,'Courier New',monospace\">Authenticated.\n",
       "</pre>\n"
      ],
      "text/plain": [
       "Authenticated.\n"
      ]
     },
     "metadata": {},
     "output_type": "display_data"
    },
    {
     "data": {
      "text/html": [
       "<pre style=\"white-space:pre;overflow-x:auto;line-height:normal;font-family:Menlo,'DejaVu Sans Mono',consolas,'Courier New',monospace\"></pre>\n"
      ],
      "text/plain": []
     },
     "metadata": {},
     "output_type": "display_data"
    },
    {
     "data": {
      "text/html": [
       "<pre style=\"white-space:pre;overflow-x:auto;line-height:normal;font-family:Menlo,'DejaVu Sans Mono',consolas,'Courier New',monospace\"></pre>\n"
      ],
      "text/plain": []
     },
     "metadata": {},
     "output_type": "display_data"
    }
   ],
   "source": [
    "%authenticate"
   ]
  },
  {
   "cell_type": "code",
   "execution_count": 3,
   "metadata": {
    "jukit_cell_id": "1sXw3fhOc3"
   },
   "outputs": [
    {
     "name": "stdout",
     "output_type": "stream",
     "text": [
      "Requesting runtime=hpc_cpu...\n",
      "[NeuroData25VC1:cloud, 60 Minutes, 1 Node(s), 16 CPU(s), 0 GPU(s), 32000 MB RAM, 0 MB VRAM]\n",
      "* modules=[]\n",
      "* libraries=['numpy=2.2.5', 'pandas=2.2.3', 'pip', 'psycopg2=2.9.9', 'postgresql=17.4', 'pytest', 'python=3.10', 'psi4=1.9.1', 'pytorch-cpu=2.5.1', 'jupyter=1.1.1', 'requests', 'setuptools', 'torchaudio=2.5.1', 'torchvision=0.20.1', 'pytorch_geometric=2.6.1', 'pytorch_scatter=2.1.2=cpu*', 'pytorch-minimize=0.0.2', 'matplotlib=3.10.1', 'pydantic=1', 'scipy=1.15.*', 'tqdm']\n",
      "* pip=['cdsg-tools==0.0.4', 'qm-tools-aw==1.4.5', 'qcmlforge==0.0.8', 'qcfractal==0.59', 'qcmanybody', 'qcfractalcompute==0.59']\n",
      "* mounts=[]\n",
      "Requested runtime=hpc_cpu\n",
      "Request successful: runtime=hpc_cpu\n"
     ]
    },
    {
     "data": {
      "application/vnd.jupyter.widget-view+json": {
       "model_id": "ca195e7d207f4a829f45c2d6f514be46",
       "version_major": 2,
       "version_minor": 0
      },
      "text/plain": [
       "Output()"
      ]
     },
     "metadata": {},
     "output_type": "display_data"
    },
    {
     "data": {
      "text/html": [
       "<pre style=\"white-space:pre;overflow-x:auto;line-height:normal;font-family:Menlo,'DejaVu Sans Mono',consolas,'Courier New',monospace\"></pre>\n"
      ],
      "text/plain": []
     },
     "metadata": {},
     "output_type": "display_data"
    },
    {
     "name": "stdout",
     "output_type": "stream",
     "text": [
      "local:/var/folders/_n/fcf6nx4j67gbbt4_8mjqxdc80000gn/T/connection_zdqde_jm.json --> hpc_cpu:connection_zdqde_jm.json... [200]\n",
      "started proc_name=hpc_cpu_kernel on rt=hpc_cpu. pid=23431\n",
      "forwarding ports=[22185, 22186, 22187, 22188, 22189]\n",
      "hpc_cpu:22185 -> access via 18.118.140.230:10000\n",
      "hpc_cpu:22186 -> access via 18.118.140.230:10001\n",
      "hpc_cpu:22187 -> access via 18.118.140.230:10002\n",
      "hpc_cpu:22188 -> access via 18.118.140.230:10003\n",
      "hpc_cpu:22189 -> access via 18.118.140.230:10004\n",
      "started ipykernel tunnels for hpc_cpu at 18.118.140.230\n",
      "started ipykernel client for hpc_cpu\n",
      "Remote Jupyter kernel launched and connected for runtime=hpc_cpu.\n",
      "Switched to runtime=hpc_cpu.\n"
     ]
    }
   ],
   "source": [
    "%request_runtime hpc_cpu --file=cybershuttle.yml --walltime=60 --use=NeuroData25VC1:cloud \n",
    "%wait_for_runtime hpc_cpu --live\n",
    "%switch_runtime hpc_cpu"
   ]
  },
  {
   "cell_type": "code",
   "execution_count": 4,
   "metadata": {},
   "outputs": [
    {
     "name": "stdout",
     "output_type": "stream",
     "text": [
      "copying local:combined_df_subset_358.pkl to hpc_cpu:combined_df_subset_358.pkl\n",
      "local:combined_df_subset_358.pkl --> hpc_cpu:combined_df_subset_358.pkl... [200]\n"
     ]
    }
   ],
   "source": [
    "%copy_data source=local:combined_df_subset_358.pkl target=hpc_cpu:combined_df_subset_358.pkl"
   ]
  },
  {
   "cell_type": "code",
   "execution_count": 5,
   "metadata": {
    "jukit_cell_id": "sb2BSlStsm"
   },
   "outputs": [
    {
     "name": "stdout",
     "output_type": "stream",
     "text": [
      "executing cell on hpc_cpu...\n",
      "waiting for cell to finish on hpc_cpu...\n",
      "Imports\n",
      "cell finished on hpc_cpu.\n"
     ]
    }
   ],
   "source": [
    "import psi4\n",
    "from pprint import pprint as pp\n",
    "import pandas as pd\n",
    "import numpy as np\n",
    "from qm_tools_aw import tools\n",
    "import matplotlib.pyplot as plt\n",
    "# QCElemental Imports\n",
    "from qcelemental.models import Molecule\n",
    "import qcelemental as qcel\n",
    "# Dataset Imports\n",
    "from qcportal import PortalClient\n",
    "from qcportal.singlepoint import SinglepointDatasetEntry, QCSpecification\n",
    "from qcportal.manybody import ManybodyDatasetEntry, ManybodySpecification\n",
    "from torch import manual_seed\n",
    "import subprocess\n",
    "\n",
    "manual_seed(42)\n",
    "\n",
    "h2kcalmol = qcel.constants.hartree2kcalmol\n",
    "print('Imports')"
   ]
  },
  {
   "cell_type": "markdown",
   "metadata": {
    "jukit_cell_id": "78H3oHPXBB"
   },
   "source": [
    "# QCArchive Setup\n",
    "QCArchive uses a PostgreSQL database for storing QM data including geometries,\n",
    "energies, and properties. Furthermore, to save on compute resources, every job\n",
    "generates a unique hash allowing future computations to be able to query previous\n",
    "job results for avoiding re-computing calculations, unless specifically requested.\n",
    "\n",
    "The following function initializes the QCArchive DB and QCFractal server, allowing\n",
    "us to then start the services for interfacing them through python. The configurations\n",
    "below will operate on a remote node through cybershuttle."
   ]
  },
  {
   "cell_type": "code",
   "execution_count": 8,
   "metadata": {
    "jukit_cell_id": "BVc6W6uOta"
   },
   "outputs": [
    {
     "name": "stdout",
     "output_type": "stream",
     "text": [
      "executing cell on hpc_cpu...\n",
      "waiting for cell to finish on hpc_cpu...\n",
      "/tmp/qcfractal\n"
     ]
    },
    {
     "name": "stderr",
     "output_type": "stream",
     "text": [
      "rm: cannot remove '/tmp/qcfractal/postgres': No such file or directory\n"
     ]
    },
    {
     "name": "stdout",
     "output_type": "stream",
     "text": [
      "/tmp/qcfractal/postgres\n",
      "\n",
      "--------------------------------------------------------------------------------\n",
      "Python executable:  /dev/shm/scratch/envs/7d012ce2/bin/python3.10\n",
      "QCFractal version:  0.59\n",
      "QCFractal alembic revision:  d5988aa750ae\n",
      "pg_ctl path:  /dev/shm/scratch/envs/7d012ce2/bin/pg_ctl\n",
      "PostgreSQL server version:  PostgreSQL 17.4 on x86_64-conda-linux-gnu, compiled by x86_64-conda-linux-gnu-cc (conda-forge gcc 13.3.0-2) 13.3.0, 64-bit\n",
      "--------------------------------------------------------------------------------\n",
      "\n",
      "\n",
      "Displaying QCFractal configuration below\n",
      "--------------------------------------------------------------------------------\n",
      "access_log_keep: 0\n",
      "allow_unauthenticated_read: true\n",
      "api:\n",
      "  extra_flask_options: null\n",
      "  extra_waitress_options: null\n",
      "  host: localhost\n",
      "  jwt_access_token_expires: 3600\n",
      "  jwt_refresh_token_expires: 86400\n",
      "  jwt_secret_key: pEDdpLeSi-edkxI6a1HfMTthO8UGBNQUj6xieVJxd2o\n",
      "  num_threads_per_worker: 4\n",
      "  port: 7778\n",
      "  secret_key: IZiPxnfnEdRgpEfMZaBHh3qgxNij3kODCJJ19_gPz-k\n",
      "  worker_timeout: 120\n",
      "api_limits:\n",
      "  add_molecules: 1000\n",
      "  add_records: 500\n",
      "  get_access_logs: 1000\n",
      "  get_dataset_entries: 2000\n",
      "  get_error_logs: 100\n",
      "  get_internal_jobs: 1000\n",
      "  get_managers: 1000\n",
      "  get_molecules: 1000\n",
      "  get_records: 1000\n",
      "  manager_tasks_claim: 200\n",
      "  manager_tasks_return: 10\n",
      "auto_reset:\n",
      "  compute_lost: 5\n",
      "  enabled: false\n",
      "  random_error: 5\n",
      "  unknown_error: 2\n",
      "base_folder: /tmp/qcfractal\n",
      "database:\n",
      "  base_folder: /tmp/qcfractal\n",
      "  data_directory: /tmp/qcfractal/postgres\n",
      "  database_name: qca\n",
      "  echo_sql: false\n",
      "  full_uri: null\n",
      "  host: localhost\n",
      "  logfile: /tmp/qcfractal/qcfractal_database.log\n",
      "  maintenance_db: postgres\n",
      "  own: true\n",
      "  password: icJq9wyuJT9YSIPU0CICxjj9_9a5b8u7cg30c2Sw7W8\n",
      "  pg_tool_dir: null\n",
      "  pool_size: 5\n",
      "  port: 5433\n",
      "  query: {}\n",
      "  username: qcfractal\n",
      "enable_security: false\n",
      "geoip2_dir: /tmp/qcfractal/geoip2\n",
      "geoip2_filename: GeoLite2-City.mmdb\n",
      "heartbeat_frequency: 60\n",
      "heartbeat_frequency_jitter: 0\n",
      "heartbeat_max_missed: 5\n",
      "hide_internal_errors: true\n",
      "homepage_directory: null\n",
      "homepage_redirect_url: null\n",
      "internal_job_keep: 0\n",
      "internal_job_processes: 1\n",
      "log_access: false\n",
      "logfile: null\n",
      "loglevel: INFO\n",
      "max_active_services: 20\n",
      "maxmind_license_key: null\n",
      "name: QCFractal Server\n",
      "s3:\n",
      "  access_key_id: null\n",
      "  bucket_map:\n",
      "    dataset_attachment: dataset_attachment\n",
      "  enabled: false\n",
      "  endpoint_url: null\n",
      "  passthrough: false\n",
      "  secret_access_key: null\n",
      "  verify: true\n",
      "service_frequency: 5\n",
      "strict_queue_tags: false\n",
      "temporary_dir: /home/exouser/cybershuttle/scratch/tmp\n",
      "--------------------------------------------------------------------------------\n",
      "\n",
      "QCFractal setup complete\n",
      "To start the server run:\n",
      "  qcfractal-server --config=/tmp/qcfractal/qcfractal_config.yaml start\n",
      "To start the compute manager run:\n",
      "  qcfractal-compute-manager --config=/tmp/qcfractal/resources.yml\n",
      "cell finished on hpc_cpu.\n"
     ]
    }
   ],
   "source": [
    "from qcmlforge import qca\n",
    "import os\n",
    "\n",
    "# Update these if you request non-default resources from cybershuttle.yml\n",
    "max_workers = 2\n",
    "cores_per_worker = 8\n",
    "memory_per_worker = 12\n",
    "\n",
    "qca.setup_qcarchive_qcfractal(\n",
    "    #QCF_BASE_FOLDER=os.path.join(os.getcwd(), \"qcfractal\"),\n",
    "    QCF_BASE_FOLDER=os.path.join(\"/tmp\", \"qcfractal\"),\n",
    "    start=False,\n",
    "    reset=True,\n",
    "    db_config={\n",
    "        \"name\": None,\n",
    "        \"enable_security\": \"false\",\n",
    "        \"allow_unauthenticated_read\": None,\n",
    "        \"logfile\": None,\n",
    "        \"loglevel\": None,\n",
    "        \"service_frequency\": 5,\n",
    "        \"max_active_services\": None,\n",
    "        \"heartbeat_frequency\": 60,\n",
    "        \"log_access\": None,\n",
    "        \"database\": {\n",
    "            \"base_folder\": None,\n",
    "            \"host\": None,\n",
    "            \"port\": 5433,\n",
    "            \"database_name\": \"qca\",\n",
    "            \"username\": None,\n",
    "            \"password\": None,\n",
    "            \"own\": None,\n",
    "        },\n",
    "        \"api\": {\n",
    "            \"host\": None,\n",
    "            \"port\": 7778,\n",
    "            \"secret_key\": None,\n",
    "            \"jwt_secret_key\": None,\n",
    "        },\n",
    "    },\n",
    "    resources_config={\n",
    "            \"update_frequency\": 5,\n",
    "            \"cores_per_worker\": cores_per_worker,\n",
    "            \"max_workers\": max_workers,\n",
    "            \"memory_per_worker\": memory_per_worker,\n",
    "    },\n",
    "    conda_env=None,\n",
    "    worker_sh=None,\n",
    ")"
   ]
  },
  {
   "cell_type": "code",
   "execution_count": 9,
   "metadata": {
    "jukit_cell_id": "CwEhpqwLXX"
   },
   "outputs": [
    {
     "name": "stdout",
     "output_type": "stream",
     "text": [
      "executing cell on hpc_cpu...\n",
      "waiting for cell to finish on hpc_cpu...\n",
      "Started qcfractal-server with PID 23537\n",
      "cell finished on hpc_cpu.\n"
     ]
    }
   ],
   "source": [
    "qcf_server_log = open(\"qcf_server.log\", \"w\")\n",
    "qcf_server_proc = subprocess.Popen(\n",
    "  [\"qcfractal-server\", \"--config=/tmp/qcfractal/qcfractal_config.yaml\", \"start\"],\n",
    "  stdout=qcf_server_log,\n",
    "  stderr=qcf_server_log,\n",
    ")\n",
    "print(f\"Started qcfractal-server with PID {qcf_server_proc.pid}\")"
   ]
  },
  {
   "cell_type": "code",
   "execution_count": 10,
   "metadata": {
    "jukit_cell_id": "3HjtiyIuFg"
   },
   "outputs": [
    {
     "name": "stdout",
     "output_type": "stream",
     "text": [
      "executing cell on hpc_cpu...\n",
      "waiting for cell to finish on hpc_cpu...\n",
      "Started qcfractal-compute-manager with PID 23569\n",
      "cell finished on hpc_cpu.\n"
     ]
    }
   ],
   "source": [
    "import subprocess\n",
    "\n",
    "qcf_compute_manager_log = open(\"qcf_compute_manager.log\", \"w\")\n",
    "qcf_compute_manager_proc = subprocess.Popen(\n",
    "  [\"qcfractal-compute-manager\", \"--config=/tmp/qcfractal/resources.yml\"],\n",
    "  stdout=qcf_compute_manager_log,\n",
    "  stderr=qcf_compute_manager_log,\n",
    ")\n",
    "print(f\"Started qcfractal-compute-manager with PID {qcf_compute_manager_proc.pid}\")"
   ]
  },
  {
   "cell_type": "code",
   "execution_count": 11,
   "metadata": {},
   "outputs": [
    {
     "name": "stdout",
     "output_type": "stream",
     "text": [
      "executing cell on hpc_cpu...\n",
      "waiting for cell to finish on hpc_cpu...\n",
      "PortalClient(server_name='QCFractal Server', address='http://localhost:7778/', username='None')\n",
      "cell finished on hpc_cpu.\n"
     ]
    }
   ],
   "source": [
    "# Establish client connection\n",
    "client = PortalClient(\"http://localhost:7778\", verify=False)\n",
    "print(client)"
   ]
  },
  {
   "cell_type": "markdown",
   "metadata": {
    "jukit_cell_id": "X31FadtbG5"
   },
   "source": [
    "# QCArchive single point example with Psi4\n",
    "\n",
    "QCArchive/QCFractal can be used to run several QM softwares, but the focus of\n",
    "the present notebook will highlight the popular, open-source Psi4 program. \n",
    "\n",
    "As a simple example, we can specify a water dimer geometry and then\n",
    "create a singlepoint energy entry into the database with the client."
   ]
  },
  {
   "cell_type": "code",
   "execution_count": 12,
   "metadata": {
    "jukit_cell_id": "hMCmRgdGJ4"
   },
   "outputs": [
    {
     "name": "stdout",
     "output_type": "stream",
     "text": [
      "executing cell on hpc_cpu...\n",
      "waiting for cell to finish on hpc_cpu...\n"
     ]
    },
    {
     "data": {
      "text/plain": [
       "(InsertMetadata(error_description=None, errors=[], inserted_idx=[0], existing_idx=[]),\n",
       " [1])"
      ]
     },
     "metadata": {},
     "output_type": "display_data"
    },
    {
     "name": "stdout",
     "output_type": "stream",
     "text": [
      "cell finished on hpc_cpu.\n"
     ]
    }
   ],
   "source": [
    "# Running a single job\n",
    "mol = Molecule.from_data(\n",
    "    \"\"\"\n",
    "     0 1\n",
    "     O  -1.551007  -0.114520   0.000000\n",
    "     H  -1.934259   0.762503   0.000000\n",
    "     H  -0.599677   0.040712   0.000000\n",
    "     --\n",
    "     0 1\n",
    "     O   1.350625   0.111469   0.000000\n",
    "     H   1.680398  -0.373741  -0.758561\n",
    "     H   1.680398  -0.373741   0.758561\n",
    "\n",
    "     units angstrom\n",
    "     no_reorient\n",
    "     symmetry c1\n",
    "\"\"\"\n",
    ")\n",
    "\n",
    "client.add_singlepoints(\n",
    "    [mol],\n",
    "    \"psi4\",\n",
    "    driver=\"energy\",\n",
    "    method=\"b3lyp\",\n",
    "    basis=\"aug-cc-pvdz\",\n",
    "    keywords={\"scf_type\": \"df\", \"e_convergence\": 6, \"freeze_core\": True},\n",
    "    tag=\"local\",\n",
    ")\n"
   ]
  },
  {
   "cell_type": "markdown",
   "metadata": {},
   "source": [
    "## Query Results"
   ]
  },
  {
   "cell_type": "code",
   "execution_count": 14,
   "metadata": {},
   "outputs": [
    {
     "name": "stdout",
     "output_type": "stream",
     "text": [
      "executing cell on hpc_cpu...\n",
      "waiting for cell to finish on hpc_cpu...\n",
      "<bound method BaseModel.dict of SinglepointRecord(id=1, record_type='singlepoint', is_service=False, properties={'pe energy': 0.0, 'scf dipole': [1.0144337612147853, 0.03039716795361569, 4.715414582238953e-12], 'calcinfo_nmo': 82, 'dft xc energy': -15.093933325834763, 'return_energy': -152.8965873433083, 'return_result': -152.8965873433083, 'scf_xc_energy': -15.093933325834763, 'calcinfo_natom': 6, 'calcinfo_nbeta': 10, 'current dipole': [1.0144337612147853, 0.03039716795361569, 4.715414582238953e-12], 'current energy': -152.8965873433083, 'return_hessian': None, 'scf_iterations': 8, 'calcinfo_nalpha': 10, 'calcinfo_nbasis': 82, 'dft vv10 energy': 0.0, 'return_gradient': None, 'dft total energy': -152.8965873433083, 'scf_total_energy': -152.8965873433083, 'scf_dipole_moment': [1.0144337612147853, 0.03039716795361569, 4.715414582238953e-12], 'scf_total_hessian': None, 'scf total energies': [-152.18329179022427, -152.5480985336476, -151.7847704828132, -152.89584149375617, -152.89589353340764, -152.89657187076338, -152.89658669740828, -152.89658733874978, -152.8965873433083], 'scf_total_gradient': None, 'dd solvation energy': 0.0, 'grid electrons beta': 10.000001013223184, 'one-electron energy': -282.48472356908337, 'two-electron energy': 108.01922155474645, 'grid electrons alpha': 10.000001013223184, 'grid electrons total': 20.000002026446367, 'scf iteration energy': -152.8965873433083, 'xc grid total points': 132401.0, 'xc grid radial points': 75.0, 'pcm polarization energy': 0.0, 'scf_one_electron_energy': -282.48472356908337, 'scf_two_electron_energy': 108.01922155474645, 'current reference energy': -152.8965873433083, 'nuclear_repulsion_energy': 36.66284799686338, 'xc grid spherical points': 302.0, 'dft functional total energy': -152.8965873433083}, extras={}, status=<RecordStatusEnum.complete: 'complete'>, manager_name='theoryfs-nsworkshopcpuvc1-compute-0.novalocal-9968d2af-ead0-458e-a5a0-b857c1620a3d', created_on=datetime.datetime(2025, 5, 12, 9, 30, 12, 961016, tzinfo=datetime.timezone.utc), modified_on=datetime.datetime(2025, 5, 12, 9, 30, 21, 313974, tzinfo=datetime.timezone.utc), owner_user=None, owner_group=None, compute_history_=None, task_=None, service_=None, comments_=None, native_files_=None, specification=QCSpecification(program='psi4', driver=<SinglepointDriver.energy: 'energy'>, method='b3lyp', basis='aug-cc-pvdz', keywords={'scf_type': 'df', 'freeze_core': True, 'e_convergence': 6}, protocols=AtomicResultProtocols(wavefunction=<WavefunctionProtocolEnum.none: 'none'>, stdout=True, error_correction=ErrorCorrectionProtocol(default_policy=True, policies=None), native_files=<NativeFilesProtocolEnum.none: 'none'>)), molecule_id=1, molecule_=None, wavefunction_=None)>\n",
      "-152.8965873433083\n",
      "cell finished on hpc_cpu.\n"
     ]
    }
   ],
   "source": [
    "recs = client.query_records(\n",
    "    record_id=[1]\n",
    ")\n",
    "for rec in recs:\n",
    "    print(rec.dict)\n",
    "    print(rec.properties['return_result'])"
   ]
  },
  {
   "cell_type": "markdown",
   "metadata": {
    "jukit_cell_id": "6DmD5wp1nB"
   },
   "source": [
    "# Dataset Example\n",
    "While one could use the above logic for all calculations, QCArchive provides\n",
    "dataset options to make managing data for a specific application substantially\n",
    "easier. \n",
    "\n",
    "Prior to creating the QCArchive datasets, we will first load in data from a \n",
    "recently submitted Sherrill work [Levels of SAPT II](https://chemrxiv.org/engage/chemrxiv/article-details/67fe885f6e70d6fb2e033804). To faciliate insertion\n",
    "into the DB, we will create QCElemental Molecule objects in the pickle file\n",
    "and extract specific columns to store as variables for usage below. "
   ]
  },
  {
   "cell_type": "code",
   "execution_count": 15,
   "metadata": {
    "jukit_cell_id": "Z0wXrcgRq8"
   },
   "outputs": [
    {
     "name": "stdout",
     "output_type": "stream",
     "text": [
      "executing cell on hpc_cpu...\n",
      "waiting for cell to finish on hpc_cpu...\n",
      "     Benchmark SAPT2+3(CCD)DMP2 TOTAL ENERGY aqz  MP2 IE atz  \\\n",
      "0      -10.248                         -0.016681   -0.015629   \n",
      "1      -15.245                         -0.024763   -0.023012   \n",
      "2       -3.517                         -0.005637   -0.005608   \n",
      "3       -0.127                         -0.000187   -0.000194   \n",
      "4       -8.990                         -0.014655   -0.013687   \n",
      "..         ...                               ...         ...   \n",
      "353     -4.390                         -0.007196   -0.006835   \n",
      "354     -1.130                         -0.001489   -0.002395   \n",
      "355     -0.260                         -0.000432   -0.000450   \n",
      "356     -5.740                         -0.009198   -0.008974   \n",
      "357     -3.120                         -0.004909   -0.005518   \n",
      "\n",
      "     SAPT0 TOTAL ENERGY adz  \n",
      "0                 -0.018254  \n",
      "1                 -0.027620  \n",
      "2                 -0.005920  \n",
      "3                 -0.000192  \n",
      "4                 -0.016209  \n",
      "..                      ...  \n",
      "353               -0.008013  \n",
      "354               -0.002090  \n",
      "355               -0.000503  \n",
      "356               -0.009757  \n",
      "357               -0.005630  \n",
      "\n",
      "[358 rows x 4 columns]\n",
      "count    30.000000\n",
      "mean     12.233333\n",
      "std       2.955805\n",
      "min       4.000000\n",
      "25%      10.000000\n",
      "50%      13.000000\n",
      "75%      14.750000\n",
      "max      16.000000\n",
      "Name: size, dtype: float64\n",
      "cell finished on hpc_cpu.\n"
     ]
    }
   ],
   "source": [
    "# Creating a QCArchive Dataset...\n",
    "# Load in a dataset from a recent Sherrill work (Levels of SAPT II)\n",
    "df_LoS = pd.read_pickle(\"./combined_df_subset_358.pkl\")\n",
    "print(df_LoS[['Benchmark', 'SAPT2+3(CCD)DMP2 TOTAL ENERGY aqz', 'MP2 IE atz', 'SAPT0 TOTAL ENERGY adz' ]])\n",
    "\n",
    "# Limit to 100 molecules with maximum of 16 atoms to keep computational cost down\n",
    "df_LoS['size'] = df_LoS['atomic_numbers'].apply(lambda x: len(x))\n",
    "df_LoS = df_LoS[df_LoS['size'] <= 16]\n",
    "df_LoS = df_LoS.sample(30, random_state=42, axis=0).copy()\n",
    "# df_LoS = df_LoS.sample(50, random_state=42, axis=0).copy()\n",
    "df_LoS.reset_index(drop=True, inplace=True)\n",
    "print(df_LoS['size'].describe())\n",
    "\n",
    "# Create QCElemntal Molecules to generate the dataset\n",
    "def qcel_mols(row):\n",
    "    \"\"\"\n",
    "    Convert the row to a qcel molecule\n",
    "    \"\"\"\n",
    "    atomic_numbers = [row['atomic_numbers'][row['monAs']], row['atomic_numbers'][row['monBs']]]\n",
    "    coords = [row['coordinates'][row['monAs']], row['coordinates'][row['monBs']]]\n",
    "    cm = [\n",
    "        [row['monA_charge'], row['monA_multiplicity']],\n",
    "        [row['monB_charge'], row['monB_multiplicity']],\n",
    "     ]\n",
    "    return tools.convert_pos_carts_to_mol(atomic_numbers, coords, cm)\n",
    "df_LoS['qcel_molecule'] = df_LoS.apply(qcel_mols, axis=1)\n",
    "geoms = df_LoS['qcel_molecule'].tolist()\n",
    "ref_IEs = df_LoS['Benchmark'].tolist()\n",
    "sapt0_adz = (df_LoS['SAPT0 TOTAL ENERGY adz'] * h2kcalmol).tolist()"
   ]
  },
  {
   "cell_type": "markdown",
   "metadata": {
    "jukit_cell_id": "iwmcvViziS"
   },
   "source": [
    "## Singlepoint Dataset\n",
    "\n",
    "First, to demonstrate how you could use this data for singlepoint energies/properties like the water\n",
    "dimer example above, we will create a singlepoint dataset and slot in our geometry data. "
   ]
  },
  {
   "cell_type": "code",
   "execution_count": 16,
   "metadata": {
    "jukit_cell_id": "i8ICwzPWaD"
   },
   "outputs": [
    {
     "name": "stdout",
     "output_type": "stream",
     "text": [
      "executing cell on hpc_cpu...\n",
      "waiting for cell to finish on hpc_cpu...\n",
      "Added LoS-singlepoint as dataset\n",
      "Added 30 molecules to dataset\n",
      "id=1 dataset_type='singlepoint' name='LoS-singlepoint' description='Dataset to contain LoS-singlepoint' tagline='' tags=[] group='default' visibility=True provenance={} default_tag='*' default_priority=<PriorityEnum.normal: 1> owner_user=None owner_group=None metadata={} extras={} contributed_values_=None attachments_=None auto_fetch_missing=True\n",
      "cell finished on hpc_cpu.\n"
     ]
    }
   ],
   "source": [
    "# Create client dataset\n",
    "ds_name = 'LoS-singlepoint'\n",
    "client_datasets = [i['dataset_name'] for i in client.list_datasets()]\n",
    "# Check if dataset already exists, if not create a new one\n",
    "if ds_name not in client_datasets:\n",
    "    ds = client.add_dataset(\"singlepoint\", ds_name,\n",
    "                            f\"Dataset to contain {ds_name}\")\n",
    "    print(f\"Added {ds_name} as dataset\")\n",
    "    # Insert entries into dataset\n",
    "    entry_list = []\n",
    "    for idx, mol in enumerate(geoms):\n",
    "        extras = {\n",
    "            \"name\": 'LoS-' + str(idx),\n",
    "            \"idx\": idx,\n",
    "        }\n",
    "        mol = Molecule.from_data(mol.dict(), extras=extras)\n",
    "        ent = SinglepointDatasetEntry(name=extras['name'], molecule=mol)\n",
    "        entry_list.append(ent)\n",
    "    ds.add_entries(entry_list)\n",
    "    print(f\"Added {len(entry_list)} molecules to dataset\")\n",
    "else:\n",
    "    ds = client.get_dataset(\"singlepoint\", ds_name)\n",
    "    print(f\"Found {ds_name} dataset, using this instead\")\n",
    "\n",
    "print(ds)"
   ]
  },
  {
   "cell_type": "code",
   "execution_count": 17,
   "metadata": {
    "jukit_cell_id": "7ZAOPlzuUX"
   },
   "outputs": [
    {
     "name": "stdout",
     "output_type": "stream",
     "text": [
      "executing cell on hpc_cpu...\n",
      "waiting for cell to finish on hpc_cpu...\n",
      "cell finished on hpc_cpu.\n"
     ]
    }
   ],
   "source": [
    "# Can delete the dataset if you want to start over. Need to know dataset_id\n",
    "# client.delete_dataset(dataset_id=ds.id, delete_records=True)"
   ]
  },
  {
   "cell_type": "markdown",
   "metadata": {},
   "source": [
    "# Create QCSpecification and submit computations\n",
    "Now that the dataset has been created with our molecular systems, we will\n",
    "specify a level of theory (method/basis set) for running our calculations. We\n",
    "will name our specification \"psi4/SAPT0/cc-pvdz\" to easily label this\n",
    "specification's level of theory and program. This name will be used later\n",
    "during data collection and analysis. Although many QM methods that use a\n",
    "singlepoint energy would return a total energy, SAPT is a specialized method\n",
    "that directly computes the interaction energy between our monomers."
   ]
  },
  {
   "cell_type": "code",
   "execution_count": 18,
   "metadata": {
    "jukit_cell_id": "vMkm00fo00"
   },
   "outputs": [
    {
     "name": "stdout",
     "output_type": "stream",
     "text": [
      "executing cell on hpc_cpu...\n",
      "waiting for cell to finish on hpc_cpu...\n"
     ]
    },
    {
     "data": {
      "text/plain": [
       "InsertMetadata(error_description=None, errors=[], inserted_idx=[0], existing_idx=[])"
      ]
     },
     "metadata": {},
     "output_type": "display_data"
    },
    {
     "name": "stdout",
     "output_type": "stream",
     "text": [
      "cell finished on hpc_cpu.\n"
     ]
    }
   ],
   "source": [
    "# SAPT0 Example\n",
    "method, basis = \"SAPT0\", \"cc-pvdz\"\n",
    "\n",
    "# Set the QCSpecification (QM interaction energy in our case)\n",
    "spec = QCSpecification(\n",
    "    program=\"psi4\",\n",
    "    driver=\"energy\",\n",
    "    method=method,\n",
    "    basis=basis,\n",
    "    keywords={\n",
    "        \"scf_type\": \"df\",\n",
    "    },\n",
    ")\n",
    "ds.add_specification(name=f\"psi4/{method}/{basis}\", specification=spec)"
   ]
  },
  {
   "cell_type": "code",
   "execution_count": 19,
   "metadata": {
    "jukit_cell_id": "dwYb9dbQNI"
   },
   "outputs": [
    {
     "name": "stdout",
     "output_type": "stream",
     "text": [
      "executing cell on hpc_cpu...\n",
      "waiting for cell to finish on hpc_cpu...\n",
      "Submitted LoS-singlepoint dataset\n",
      "cell finished on hpc_cpu.\n"
     ]
    }
   ],
   "source": [
    "# Run the computations\n",
    "ds.submit()\n",
    "print(f\"Submitted {ds_name} dataset\")"
   ]
  },
  {
   "cell_type": "code",
   "execution_count": 23,
   "metadata": {
    "jukit_cell_id": "2JMCNlehez"
   },
   "outputs": [
    {
     "name": "stdout",
     "output_type": "stream",
     "text": [
      "executing cell on hpc_cpu...\n",
      "waiting for cell to finish on hpc_cpu...\n"
     ]
    },
    {
     "data": {
      "text/plain": [
       "{'psi4/SAPT0/cc-pvdz': {<RecordStatusEnum.complete: 'complete'>: 9,\n",
       "  <RecordStatusEnum.running: 'running'>: 6,\n",
       "  <RecordStatusEnum.waiting: 'waiting'>: 15}}"
      ]
     },
     "metadata": {},
     "output_type": "display_data"
    },
    {
     "name": "stdout",
     "output_type": "stream",
     "text": [
      "cell finished on hpc_cpu.\n"
     ]
    }
   ],
   "source": [
    "# Check the status of the dataset - can repeatedly run this to see the progress\n",
    "ds.status()"
   ]
  },
  {
   "cell_type": "markdown",
   "metadata": {
    "jukit_cell_id": "kT14mJyNqJ"
   },
   "source": [
    "## Manybody Dataset - typical way to compute interaction energies with most QM methods\n",
    "\n",
    "While SAPT0 returns an interaction energy from a singlepoint energy, most other QM\n",
    "methods like HF, MP2, CCSD, or DFT would return a total dimer energy ($E_{\\rm dimer}$). To\n",
    "get QCArchive to run the energies of the dimer, monomerA, and monomerB and return the \n",
    "energy difference as above for $E_{\\rm IE}$, we can use the ManybodyDataset. The setup is\n",
    "similar to the singlepoint dataset above, but using different objects."
   ]
  },
  {
   "cell_type": "code",
   "execution_count": 24,
   "metadata": {
    "jukit_cell_id": "g31JlHrgso"
   },
   "outputs": [
    {
     "name": "stdout",
     "output_type": "stream",
     "text": [
      "executing cell on hpc_cpu...\n",
      "waiting for cell to finish on hpc_cpu...\n",
      "Setting up new dataset: LoS-manybody\n",
      "Added LoS-manybody as dataset\n",
      "Added 30 molecules to dataset\n",
      "id=2 dataset_type='manybody' name='LoS-manybody' description='Dataset to contain LoS-manybody' tagline='' tags=[] group='default' visibility=True provenance={} default_tag='*' default_priority=<PriorityEnum.normal: 1> owner_user=None owner_group=None metadata={} extras={} contributed_values_=None attachments_=None auto_fetch_missing=True\n",
      "cell finished on hpc_cpu.\n"
     ]
    }
   ],
   "source": [
    "# Create client dataset\n",
    "ds_name_mb = 'LoS-manybody'\n",
    "client_datasets = [i['dataset_name'] for i in client.list_datasets()]\n",
    "# Check if dataset already exists, if not create a new one\n",
    "if ds_name_mb not in client_datasets:\n",
    "    print(\"Setting up new dataset:\", ds_name_mb)\n",
    "    ds_mb = client.add_dataset(\"manybody\", ds_name_mb,\n",
    "                            f\"Dataset to contain {ds_name_mb}\")\n",
    "    print(f\"Added {ds_name_mb} as dataset\")\n",
    "    # Insert entries into dataset\n",
    "    entry_list = []\n",
    "    for idx, mol in enumerate(geoms):\n",
    "        ent = ManybodyDatasetEntry(name=f\"LoS-IE-{idx}\", initial_molecule=mol)\n",
    "        entry_list.append(ent)\n",
    "    ds_mb.add_entries(entry_list)\n",
    "    print(f\"Added {len(entry_list)} molecules to dataset\")\n",
    "else:\n",
    "    ds_mb = client.get_dataset(\"manybody\", ds_name_mb)\n",
    "    print(f\"Found {ds_name_mb} dataset, using this instead\")\n",
    "\n",
    "print(ds_mb)\n",
    "\n",
    "# Can delete the dataset if you want to start over. Need to know dataset_id\n",
    "# client.delete_dataset(dataset_id=2, delete_records=True)"
   ]
  },
  {
   "cell_type": "code",
   "execution_count": 25,
   "metadata": {
    "jukit_cell_id": "bYERcUudd0"
   },
   "outputs": [
    {
     "name": "stdout",
     "output_type": "stream",
     "text": [
      "executing cell on hpc_cpu...\n",
      "waiting for cell to finish on hpc_cpu...\n"
     ]
    },
    {
     "data": {
      "text/plain": [
       "{}"
      ]
     },
     "metadata": {},
     "output_type": "display_data"
    },
    {
     "name": "stdout",
     "output_type": "stream",
     "text": [
      "cell finished on hpc_cpu.\n"
     ]
    }
   ],
   "source": [
    "ds_mb.status()"
   ]
  },
  {
   "cell_type": "markdown",
   "metadata": {},
   "source": [
    "# Specify level of theory for Manybody dataset\n",
    "Similar to above, we can iterate through different levels of theory, create\n",
    "QCSpecifications, and submit the dataset computations. The major difference here\n",
    "is that now the \"levels\" must be specified for the ManybodySpecification. These\n",
    "\"levels\" refer to what level of theory and options we want to run our dimer (2)\n",
    "and monomer (1) computations with. "
   ]
  },
  {
   "cell_type": "code",
   "execution_count": 26,
   "metadata": {
    "jukit_cell_id": "gauw3VIjl9"
   },
   "outputs": [
    {
     "name": "stdout",
     "output_type": "stream",
     "text": [
      "executing cell on hpc_cpu...\n",
      "waiting for cell to finish on hpc_cpu...\n",
      "spec_mb program='qcmanybody' levels={1: QCSpecification(program='psi4', driver=<SinglepointDriver.energy: 'energy'>, method='hf', basis='6-31g*', keywords={'d_convergence': 8, 'scf_type': 'df'}, protocols=AtomicResultProtocols(wavefunction=<WavefunctionProtocolEnum.none: 'none'>, stdout=True, error_correction=ErrorCorrectionProtocol(default_policy=True, policies=None), native_files=<NativeFilesProtocolEnum.none: 'none'>)), 2: QCSpecification(program='psi4', driver=<SinglepointDriver.energy: 'energy'>, method='hf', basis='6-31g*', keywords={'d_convergence': 8, 'scf_type': 'df'}, protocols=AtomicResultProtocols(wavefunction=<WavefunctionProtocolEnum.none: 'none'>, stdout=True, error_correction=ErrorCorrectionProtocol(default_policy=True, policies=None), native_files=<NativeFilesProtocolEnum.none: 'none'>))} bsse_correction=[<BSSECorrectionEnum.cp: 'cp'>] keywords=ManybodyKeywords(return_total_data=False) protocols={}\n",
      "Submitted LoS-singlepoint dataset\n",
      "cell finished on hpc_cpu.\n"
     ]
    }
   ],
   "source": [
    "# Set multiple levels of theory - you can add/remove levels as you desire.\n",
    "# Computational scaling will get quite expensive with better methods and larger\n",
    "# basis sets\n",
    "\n",
    "methods = [\n",
    "    'hf', # 'svwn', # 'pbe', \n",
    "]\n",
    "basis_sets = [\n",
    "    '6-31g*'\n",
    "]\n",
    "\n",
    "for method in methods:\n",
    "    for basis in basis_sets:\n",
    "        # Set the QCSpecification (QM interaction energy in our case)\n",
    "        qc_spec_mb = QCSpecification(\n",
    "            program=\"psi4\",\n",
    "            driver=\"energy\",\n",
    "            method=method,\n",
    "            basis=basis,\n",
    "            keywords={\n",
    "                \"d_convergence\": 8,\n",
    "                \"scf_type\": \"df\",\n",
    "            },\n",
    "        )\n",
    "\n",
    "        spec_mb = ManybodySpecification(\n",
    "            program='qcmanybody',\n",
    "            bsse_correction=['cp'],\n",
    "            levels={\n",
    "                1: qc_spec_mb,\n",
    "                2: qc_spec_mb,\n",
    "            },\n",
    "        )\n",
    "        print(\"spec_mb\", spec_mb)\n",
    "\n",
    "        ds_mb.add_specification(name=f\"psi4/{method}/{basis}\", specification=spec_mb)\n",
    "\n",
    "        # Run the computations\n",
    "        ds_mb.submit()\n",
    "        print(f\"Submitted {ds_name} dataset\")"
   ]
  },
  {
   "cell_type": "markdown",
   "metadata": {},
   "source": [
    "# Dataset Status\n",
    "We can re-execute the following cell to see how many computations have completed and how many are running/waiting."
   ]
  },
  {
   "cell_type": "code",
   "execution_count": 32,
   "metadata": {
    "jukit_cell_id": "qYukdPBXmi"
   },
   "outputs": [
    {
     "name": "stdout",
     "output_type": "stream",
     "text": [
      "executing cell on hpc_cpu...\n",
      "waiting for cell to finish on hpc_cpu...\n",
      "{'psi4/SAPT0/cc-pvdz': {<RecordStatusEnum.complete: 'complete'>: 30}}\n",
      "{'psi4/hf/6-31g*': {<RecordStatusEnum.complete: 'complete'>: 30}}\n",
      "cell finished on hpc_cpu.\n"
     ]
    }
   ],
   "source": [
    "pp(ds.status())\n",
    "pp(ds_mb.status())"
   ]
  },
  {
   "cell_type": "markdown",
   "metadata": {},
   "source": [
    "# PAUSE HERE TO WAIT FOR COMPUTATIONS TO FINISH"
   ]
  },
  {
   "cell_type": "code",
   "execution_count": 33,
   "metadata": {},
   "outputs": [
    {
     "name": "stdout",
     "output_type": "stream",
     "text": [
      "executing cell on hpc_cpu...\n",
      "waiting for cell to finish on hpc_cpu...\n"
     ]
    },
    {
     "data": {
      "text/plain": [
       "[('LoS-IE-0', 'psi4/hf/6-31g*', <RecordStatusEnum.complete: 'complete'>),\n",
       " ('LoS-IE-1', 'psi4/hf/6-31g*', <RecordStatusEnum.complete: 'complete'>),\n",
       " ('LoS-IE-10', 'psi4/hf/6-31g*', <RecordStatusEnum.complete: 'complete'>),\n",
       " ('LoS-IE-11', 'psi4/hf/6-31g*', <RecordStatusEnum.complete: 'complete'>),\n",
       " ('LoS-IE-12', 'psi4/hf/6-31g*', <RecordStatusEnum.complete: 'complete'>),\n",
       " ('LoS-IE-13', 'psi4/hf/6-31g*', <RecordStatusEnum.complete: 'complete'>),\n",
       " ('LoS-IE-14', 'psi4/hf/6-31g*', <RecordStatusEnum.complete: 'complete'>),\n",
       " ('LoS-IE-15', 'psi4/hf/6-31g*', <RecordStatusEnum.complete: 'complete'>),\n",
       " ('LoS-IE-16', 'psi4/hf/6-31g*', <RecordStatusEnum.complete: 'complete'>),\n",
       " ('LoS-IE-17', 'psi4/hf/6-31g*', <RecordStatusEnum.complete: 'complete'>),\n",
       " ('LoS-IE-18', 'psi4/hf/6-31g*', <RecordStatusEnum.complete: 'complete'>),\n",
       " ('LoS-IE-19', 'psi4/hf/6-31g*', <RecordStatusEnum.complete: 'complete'>),\n",
       " ('LoS-IE-2', 'psi4/hf/6-31g*', <RecordStatusEnum.complete: 'complete'>),\n",
       " ('LoS-IE-20', 'psi4/hf/6-31g*', <RecordStatusEnum.complete: 'complete'>),\n",
       " ('LoS-IE-21', 'psi4/hf/6-31g*', <RecordStatusEnum.complete: 'complete'>),\n",
       " ('LoS-IE-22', 'psi4/hf/6-31g*', <RecordStatusEnum.complete: 'complete'>),\n",
       " ('LoS-IE-23', 'psi4/hf/6-31g*', <RecordStatusEnum.complete: 'complete'>),\n",
       " ('LoS-IE-24', 'psi4/hf/6-31g*', <RecordStatusEnum.complete: 'complete'>),\n",
       " ('LoS-IE-25', 'psi4/hf/6-31g*', <RecordStatusEnum.complete: 'complete'>),\n",
       " ('LoS-IE-26', 'psi4/hf/6-31g*', <RecordStatusEnum.complete: 'complete'>),\n",
       " ('LoS-IE-27', 'psi4/hf/6-31g*', <RecordStatusEnum.complete: 'complete'>),\n",
       " ('LoS-IE-28', 'psi4/hf/6-31g*', <RecordStatusEnum.complete: 'complete'>),\n",
       " ('LoS-IE-29', 'psi4/hf/6-31g*', <RecordStatusEnum.complete: 'complete'>),\n",
       " ('LoS-IE-3', 'psi4/hf/6-31g*', <RecordStatusEnum.complete: 'complete'>),\n",
       " ('LoS-IE-4', 'psi4/hf/6-31g*', <RecordStatusEnum.complete: 'complete'>),\n",
       " ('LoS-IE-5', 'psi4/hf/6-31g*', <RecordStatusEnum.complete: 'complete'>),\n",
       " ('LoS-IE-6', 'psi4/hf/6-31g*', <RecordStatusEnum.complete: 'complete'>),\n",
       " ('LoS-IE-7', 'psi4/hf/6-31g*', <RecordStatusEnum.complete: 'complete'>),\n",
       " ('LoS-IE-8', 'psi4/hf/6-31g*', <RecordStatusEnum.complete: 'complete'>),\n",
       " ('LoS-IE-9', 'psi4/hf/6-31g*', <RecordStatusEnum.complete: 'complete'>)]"
      ]
     },
     "metadata": {},
     "output_type": "display_data"
    },
    {
     "name": "stdout",
     "output_type": "stream",
     "text": [
      "cell finished on hpc_cpu.\n"
     ]
    }
   ],
   "source": [
    "ds_mb.detailed_status()"
   ]
  },
  {
   "cell_type": "markdown",
   "metadata": {
    "jukit_cell_id": "xgdzc0Klhx"
   },
   "source": [
    "# Data Assembly\n",
    "\n",
    "NOTE: While you can execute the following blocks before all computations are\n",
    "complete, it is recommended to wait until all computations are complete to\n",
    "continue.\n",
    "\n",
    "QCArchive allows use to write functions that operate on each dataset entry to return exactly what information\n",
    "we want from every record through the `compile_values` method. The method returns a\n",
    "pandas dataframe containing our QCSpecification names and our specified columns for each entry \n",
    "in our assemble data functions. Here is the Singlepoint data assembly for SAPT calculations. "
   ]
  },
  {
   "cell_type": "code",
   "execution_count": 34,
   "metadata": {
    "jukit_cell_id": "7RHL31QOoC"
   },
   "outputs": [
    {
     "name": "stdout",
     "output_type": "stream",
     "text": [
      "executing cell on hpc_cpu...\n",
      "waiting for cell to finish on hpc_cpu...\n",
      "[('psi4/SAPT0/cc-pvdz', 'qcel_molecule'),\n",
      " ('psi4/SAPT0/cc-pvdz', 'Z'),\n",
      " ('psi4/SAPT0/cc-pvdz', 'R'),\n",
      " ('psi4/SAPT0/cc-pvdz', 'TQ'),\n",
      " ('psi4/SAPT0/cc-pvdz', 'molecular_multiplicity'),\n",
      " ('psi4/SAPT0/cc-pvdz', 'SAPT Energies')]\n",
      "cell finished on hpc_cpu.\n"
     ]
    }
   ],
   "source": [
    "# Singlepoint data assemble\n",
    "def assemble_singlepoint_data(record):\n",
    "    record_dict = record.dict()\n",
    "    qcvars = record_dict[\"properties\"]\n",
    "    sapt_energies = np.array([np.nan, np.nan, np.nan, np.nan, np.nan])\n",
    "    sapt_energies[0] = qcvars['sapt total energy']\n",
    "    sapt_energies[1] = qcvars['sapt elst energy']\n",
    "    sapt_energies[2] = qcvars['sapt exch energy']\n",
    "    sapt_energies[3] = qcvars['sapt ind energy']\n",
    "    sapt_energies[4] = qcvars['sapt disp energy']\n",
    "    return (\n",
    "        record.molecule,\n",
    "        record.molecule.atomic_numbers,\n",
    "        record.molecule.geometry * qcel.constants.bohr2angstroms,\n",
    "        int(record.molecule.molecular_charge),\n",
    "        record.molecule.molecular_multiplicity,\n",
    "        sapt_energies,\n",
    "    )\n",
    "\n",
    "def assemble_singlepoint_data_value_names():\n",
    "    return [\n",
    "        'qcel_molecule',\n",
    "        \"Z\",\n",
    "        \"R\",\n",
    "        \"TQ\",\n",
    "        \"molecular_multiplicity\",\n",
    "        \"SAPT Energies\",\n",
    "    ]\n",
    "\n",
    "df = ds.compile_values(\n",
    "    value_call=assemble_singlepoint_data,\n",
    "    value_names=assemble_singlepoint_data_value_names(),\n",
    "    unpack=True,\n",
    ")\n",
    "pp(df.columns.tolist())\n",
    "df_sapt0 = df['psi4/SAPT0/cc-pvdz']"
   ]
  },
  {
   "cell_type": "markdown",
   "metadata": {},
   "source": [
    "Below is the assemble data function for our Manybody dataset results:"
   ]
  },
  {
   "cell_type": "code",
   "execution_count": 35,
   "metadata": {
    "jukit_cell_id": "CDD1QjxHpc"
   },
   "outputs": [
    {
     "name": "stdout",
     "output_type": "stream",
     "text": [
      "executing cell on hpc_cpu...\n",
      "waiting for cell to finish on hpc_cpu...\n",
      "[('psi4/hf/6-31g*', 'qcel_molecule'),\n",
      " ('psi4/hf/6-31g*', 'CP_IE'),\n",
      " ('psi4/hf/6-31g*', 'NOCP_IE'),\n",
      " ('psi4/hf/6-31g*', 'Z'),\n",
      " ('psi4/hf/6-31g*', 'R'),\n",
      " ('psi4/hf/6-31g*', 'TQ'),\n",
      " ('psi4/hf/6-31g*', 'molecular_multiplicity')]\n",
      "cell finished on hpc_cpu.\n"
     ]
    }
   ],
   "source": [
    "def assemble_data(record):\n",
    "    record_dict = record.dict()\n",
    "    qcvars = record_dict[\"properties\"]\n",
    "    CP_IE = qcvars['results']['cp_corrected_interaction_energy'] * h2kcalmol\n",
    "    NOCP_IE = qcvars['results'].get('nocp_corrected_interaction_energy', np.nan) * h2kcalmol\n",
    "    return (\n",
    "    record.initial_molecule,\n",
    "    CP_IE,\n",
    "    NOCP_IE,\n",
    "    record.initial_molecule.atomic_numbers,\n",
    "    record.initial_molecule.geometry * qcel.constants.bohr2angstroms,\n",
    "    int(record.initial_molecule.molecular_charge),\n",
    "    record.initial_molecule.molecular_multiplicity,\n",
    "    )\n",
    "\n",
    "def assemble_data_value_names():\n",
    "    return [\n",
    "        'qcel_molecule',\n",
    "        \"CP_IE\",\n",
    "        \"NOCP_IE\",\n",
    "        \"Z\",\n",
    "        \"R\",\n",
    "        \"TQ\",\n",
    "        \"molecular_multiplicity\"\n",
    "    ]\n",
    "\n",
    "df_mb = ds_mb.compile_values(\n",
    "    value_call=assemble_data,\n",
    "    value_names=assemble_data_value_names(),\n",
    "    unpack=True,\n",
    ")\n",
    "\n",
    "pp(df_mb.columns.tolist())"
   ]
  },
  {
   "cell_type": "markdown",
   "metadata": {},
   "source": [
    "Now we can pull together this data for analyzing our results. Our group has some\n",
    "common plotting scripts operating on pandas Dataframes, so we will convert\n",
    "our computed data into a format that is compatable with these scripts."
   ]
  },
  {
   "cell_type": "code",
   "execution_count": 36,
   "metadata": {
    "jukit_cell_id": "XT87RegBfm"
   },
   "outputs": [
    {
     "name": "stdout",
     "output_type": "stream",
     "text": [
      "executing cell on hpc_cpu...\n",
      "waiting for cell to finish on hpc_cpu...\n",
      "       HF/6-31G* error  SAPT0/cc-pvdz error  SAPT0/aug-cc-pvdz error\n",
      "count        30.000000            30.000000                30.000000\n",
      "mean          1.250928            -0.398268                -1.193177\n",
      "std           1.844864             1.199413                 1.500319\n",
      "min          -3.161351            -4.977216                -5.103666\n",
      "25%           0.159828            -0.404848                -1.770575\n",
      "50%           0.452052            -0.014826                -0.528050\n",
      "75%           2.049042             0.209783                -0.110495\n",
      "max           5.408620             0.975165                -0.003784\n",
      "cell finished on hpc_cpu.\n"
     ]
    },
    {
     "name": "stderr",
     "output_type": "stream",
     "text": [
      "/home/exouser/cybershuttle/scratch/tmp/ipykernel_23433/1492624606.py:3: SettingWithCopyWarning: \n",
      "A value is trying to be set on a copy of a slice from a DataFrame.\n",
      "Try using .loc[row_indexer,col_indexer] = value instead\n",
      "\n",
      "See the caveats in the documentation: https://pandas.pydata.org/pandas-docs/stable/user_guide/indexing.html#returning-a-view-versus-a-copy\n",
      "  df_sapt0['sapt0 total energes'] = df_sapt0.apply(lambda x: x['SAPT Energies'][0] * h2kcalmol, axis=1)\n"
     ]
    }
   ],
   "source": [
    "from cdsg_plot import error_statistics\n",
    "\n",
    "df_sapt0['sapt0 total energes'] = df_sapt0.apply(lambda x: x['SAPT Energies'][0] * h2kcalmol, axis=1)\n",
    "df_plot = pd.DataFrame(\n",
    "    {\n",
    "        \"qcel_molecule\": df_mb[\"psi4/hf/6-31g*\"][\"qcel_molecule\"],\n",
    "        \"HF/6-31G*\": df_mb[\"psi4/hf/6-31g*\"][\"CP_IE\"],\n",
    "        'SAPT0/cc-pvdz': df_sapt0['sapt0 total energes'].values,\n",
    "        # \"svwn/6-31G*\": df_mb[\"psi4/svwn/6-31g*\"][\"CP_IE\"],\n",
    "        # \"PBE/6-31G*\": df_mb[\"psi4/pbe/6-31g*\"][\"CP_IE\"],\n",
    "    }\n",
    ")\n",
    "# print(df_plot)\n",
    "id = [int(i[7:]) for i in df_plot.index]\n",
    "df_plot['id'] = id\n",
    "df_plot.sort_values(by='id', inplace=True, ascending=True)\n",
    "df_plot['reference'] = ref_IEs\n",
    "df_plot['SAPT0/aug-cc-pvdz'] = sapt0_adz\n",
    "df_plot['HF/6-31G* error'] = (df_plot['HF/6-31G*'] - df_plot['reference']).astype(float)\n",
    "# df_plot['PBE/6-31G* error'] = (df_plot['PBE/6-31G*'] - df_plot['reference']).astype(float)\n",
    "# df_plot['svwn/6-31G* error'] = (df_plot['svwn/6-31G*'] - df_plot['reference']).astype(float)\n",
    "df_plot['SAPT0/cc-pvdz error'] = (df_plot['SAPT0/cc-pvdz'] - df_plot['reference']).astype(float)\n",
    "df_plot['SAPT0/aug-cc-pvdz error'] = (df_plot['SAPT0/aug-cc-pvdz'] - df_plot['reference']).astype(float)\n",
    "# print(df_plot[['HF/6-31G*', 'SAPT0/cc-pvdz', 'reference', \"SAPT0/aug-cc-pvdz\"]])\n",
    "df_plot = df_plot.dropna(subset=['qcel_molecule', 'HF/6-31G*', 'SAPT0/cc-pvdz', 'SAPT0/aug-cc-pvdz'])\n",
    "print(df_plot[['HF/6-31G* error', 'SAPT0/cc-pvdz error', \"SAPT0/aug-cc-pvdz error\"]].describe())"
   ]
  },
  {
   "cell_type": "markdown",
   "metadata": {
    "jukit_cell_id": "6ziYQ8PdtF"
   },
   "source": [
    "# Plotting the interaction energy errors\n",
    "The function below will plot violin plots of the error distributions of the\n",
    "approximate level of theory and our reference. For this dataset, the reference\n",
    "energies are estimated CCSD(T)/CBS interaction energies provided by the Levels\n",
    "of SAPT II Supplemental Information."
   ]
  },
  {
   "cell_type": "code",
   "execution_count": 37,
   "metadata": {
    "jukit_cell_id": "dRiuyCtOh1"
   },
   "outputs": [
    {
     "name": "stdout",
     "output_type": "stream",
     "text": [
      "executing cell on hpc_cpu...\n",
      "waiting for cell to finish on hpc_cpu...\n",
      "Plotting S22-IE.png\n",
      "(-15, 15)\n",
      "lower_bound = -15, upper_bound = 20, inc = 5\n",
      "S22-IE_violin.png\n"
     ]
    },
    {
     "data": {
      "text/plain": [
       "<Figure size 3840x2880 with 0 Axes>"
      ]
     },
     "metadata": {},
     "output_type": "display_data"
    },
    {
     "data": {
      "image/png": "[encoded data removed]",
      "text/plain": [
       "<Figure size 600x600 with 1 Axes>"
      ]
     },
     "metadata": {},
     "output_type": "display_data"
    },
    {
     "name": "stdout",
     "output_type": "stream",
     "text": [
      "cell finished on hpc_cpu.\n"
     ]
    }
   ],
   "source": [
    "error_statistics.violin_plot(\n",
    "    df_plot,\n",
    "    df_labels_and_columns={\n",
    "        \"HF/6-31G*\": \"HF/6-31G* error\",\n",
    "        # \"svwn/6-31G*\": \"svwn/6-31G* error\",\n",
    "        # \"PBE/6-31G*\": \"PBE/6-31G* error\",\n",
    "        \"SAPT0/cc-pvdz\": \"SAPT0/cc-pvdz error\",\n",
    "        \"SAPT0/aug-cc-pvdz\": \"SAPT0/aug-cc-pvdz error\",\n",
    "    },\n",
    "    output_filename=\"S22-IE.png\",\n",
    "    figure_size=(6, 6),\n",
    "    x_label_fontsize=16,\n",
    "    ylim=(-15, 15),\n",
    "    rcParams={},\n",
    "    usetex=False,\n",
    "    ylabel=r\"IE Error vs. CCSD(T)/CBS (kcal/mol)\",\n",
    ")\n",
    "plt.show()"
   ]
  },
  {
   "cell_type": "markdown",
   "metadata": {
    "jukit_cell_id": "NoxyyvkpUK"
   },
   "source": [
    "# QCMLForge\n",
    "The previous sections conclude the benchmarking workflow; however, the remaining blocks in this\n",
    "notebook focus on using this QM data to train models and run inference to compare against QM methods. \n",
    "\n",
    "## Interaction energy ML model inference\n",
    "A specialized atom-pairwise neural network\n",
    "([AP-Net](https://pubs.rsc.org/en/content/articlehtml/2024/sc/d4sc01029a))\n",
    "architecture developed in the Sherrill group has been trained on 1.6 million\n",
    "dimers to predict SAPT0/aug-cc-pV(D+d)Z interaction energies. The model has been\n",
    "re-implemented and re-trained in PyTorch in QCMLForge for extending in the\n",
    "future. Below will take a pre-trained AP-Net2 model and predict energies on our\n",
    "current dimer dataset.  Note that the AP-Net2 architecture relies on first an\n",
    "AtomModel for predicting multipoles and intramolecular features, prior to more\n",
    "message passing neural networks for predicting SAPT component energies. As such,\n",
    "we must load pre-trained AtomModel weights and APNet2Model weights."
   ]
  },
  {
   "cell_type": "code",
   "execution_count": 38,
   "metadata": {
    "jukit_cell_id": "8jtfD3m3S4"
   },
   "outputs": [
    {
     "name": "stdout",
     "output_type": "stream",
     "text": [
      "executing cell on hpc_cpu...\n",
      "waiting for cell to finish on hpc_cpu...\n",
      "running on the CPU\n",
      "running on the CPU\n",
      "self.dataset=None\n",
      "[Molecule(name='C2H4O4', formula='C2H4O4', hash='c5abb54'), Molecule(name='CH7NO', formula='CH7NO', hash='5ec955b'), Molecule(name='C3H9NO2', formula='C3H9NO2', hash='8682f32'), Molecule(name='C6H8O', formula='C6H8O', hash='eaedeb0'), Molecule(name='C4H8O4', formula='C4H8O4', hash='35b6c18'), Molecule(name='C4H8O4', formula='C4H8O4', hash='85f67af'), Molecule(name='H4O2', formula='H4O2', hash='80c4390'), Molecule(name='C2H6N2O2', formula='C2H6N2O2', hash='084885d'), Molecule(name='C3H9NO2', formula='C3H9NO2', hash='b28b356'), Molecule(name='C2H4O4', formula='C2H4O4', hash='f55cc2e'), Molecule(name='CH7NO', formula='CH7NO', hash='682fa43'), Molecule(name='FH2O', formula='FH2O-', hash='d69cf34'), Molecule(name='C2H10N2', formula='C2H10N2', hash='9f0ed39'), Molecule(name='C6H8O', formula='C6H8O', hash='849097c'), Molecule(name='C2H4O4', formula='C2H4O4', hash='55b0ef0'), Molecule(name='C3H9NO2', formula='C3H9NO2', hash='72f9061'), Molecule(name='CH6O2', formula='CH6O2', hash='5d8f9aa'), Molecule(name='C3H9NO2', formula='C3H9NO2', hash='08ed16d'), Molecule(name='C2H7N3O', formula='C2H7N3O', hash='c054a98'), Molecule(name='CH6O2', formula='CH6O2', hash='b6e3eb7'), Molecule(name='C5H7NO', formula='C5H7NO', hash='458a4c4'), Molecule(name='C2H8N4', formula='C2H8N4', hash='63271a9'), Molecule(name='C5H7NO', formula='C5H7NO', hash='2e03c23'), Molecule(name='C2H4O4', formula='C2H4O4', hash='af1cb59'), Molecule(name='C2H5NO3', formula='C2H5NO3', hash='fd88297'), Molecule(name='C2H10N2', formula='C2H10N2', hash='0777887'), Molecule(name='C2H8O2', formula='C2H8O2', hash='9bc507d'), Molecule(name='C2H10N2', formula='C2H10N2', hash='19bb134'), Molecule(name='C2H7N3O', formula='C2H7N3O', hash='bedfd94'), Molecule(name='C2H6N2O2', formula='C2H6N2O2', hash='dbda4c9')]\n",
      "cell finished on hpc_cpu.\n"
     ]
    }
   ],
   "source": [
    "import apnet_pt\n",
    "from apnet_pt.AtomPairwiseModels.apnet2 import APNet2Model\n",
    "from apnet_pt.AtomModels.ap2_atom_model import AtomModel\n",
    "\n",
    "atom_model = AtomModel().set_pretrained_model(model_id=0)\n",
    "ap2 = APNet2Model(atom_model=atom_model.model).set_pretrained_model(model_id=0)\n",
    "ap2.atom_model = atom_model.model\n",
    "print(df_plot['qcel_molecule'].tolist())\n",
    "apnet2_ies_predicted = ap2.predict_qcel_mols(\n",
    "    mols=df_plot['qcel_molecule'].tolist(),\n",
    "    batch_size=16\n",
    ")"
   ]
  },
  {
   "cell_type": "code",
   "execution_count": 39,
   "metadata": {
    "jukit_cell_id": "nxmLPrfAfx"
   },
   "outputs": [
    {
     "name": "stdout",
     "output_type": "stream",
     "text": [
      "executing cell on hpc_cpu...\n",
      "waiting for cell to finish on hpc_cpu...\n",
      "Plotting S22-IE-AP2.png\n",
      "S22-IE-AP2_violin.png\n"
     ]
    },
    {
     "data": {
      "text/plain": [
       "<Figure size 3840x2880 with 0 Axes>"
      ]
     },
     "metadata": {},
     "output_type": "display_data"
    },
    {
     "data": {
      "image/png": "[encoded data removed]",
      "text/plain": [
       "<Figure size 400x400 with 1 Axes>"
      ]
     },
     "metadata": {},
     "output_type": "display_data"
    },
    {
     "name": "stdout",
     "output_type": "stream",
     "text": [
      "cell finished on hpc_cpu.\n"
     ]
    }
   ],
   "source": [
    "# AP-Net2 IE\n",
    "df_plot['APNet2'] = np.sum(apnet2_ies_predicted, axis=1)\n",
    "df_plot['APNet2 error'] = (df_plot['APNet2'] - df_plot['reference']).astype(float)\n",
    "#print(df_plot.sort_values(by='APNet2 error', ascending=True)[['APNet2', 'reference']])\n",
    "error_statistics.violin_plot(\n",
    "    df_plot,\n",
    "    df_labels_and_columns={\n",
    "        \"HF/6-31G*\": \"HF/6-31G* error\",\n",
    "        # \"svwn/6-31G*\": \"svwn/6-31G* error\",\n",
    "        # \"PBE/6-31G*\": \"PBE/6-31G* error\",\n",
    "        \"SAPT0/cc-pvdz\": \"SAPT0/cc-pvdz error\",\n",
    "        \"SAPT0/aug-cc-pvdz\": \"SAPT0/aug-cc-pvdz error\",\n",
    "        \"APNet2\": \"APNet2 error\",\n",
    "    },\n",
    "    output_filename=\"S22-IE-AP2.png\",\n",
    "    rcParams={},\n",
    "    usetex=False,\n",
    "    figure_size=(4, 4),\n",
    "    ylabel=r\"IE Error vs. CCSD(T)/CBS (kcal/mol)\",\n",
    ")\n",
    "plt.show()"
   ]
  },
  {
   "cell_type": "markdown",
   "metadata": {},
   "source": [
    "# Transfer Learning\n",
    "To demonstrate transfer learning, we can use our reference data to then tune our\n",
    "pre-trained SAPT0 model to predict the CCSD(T)/CBS energies. Then we will\n",
    "re-plot, evaluating the model performance. Note that in any application, you\n",
    "should certainly use much more data and careful train/test set selection than\n",
    "what is done in this notebook. This is purely meant for demonstraion purposes\n",
    "only."
   ]
  },
  {
   "cell_type": "code",
   "execution_count": 40,
   "metadata": {
    "jukit_cell_id": "XtMJQEokjd"
   },
   "outputs": [
    {
     "name": "stdout",
     "output_type": "stream",
     "text": [
      "executing cell on hpc_cpu...\n",
      "waiting for cell to finish on hpc_cpu...\n",
      "Received 30 QCElemental molecules with energy labels\n",
      "Processing directly from provided QCElemental molecules...\n",
      "Processing 30 dimers from provided QCElemental molecules...\n",
      "Creating data objects...\n",
      "len(RAs)=30, self.atomic_batch_size=8, self.batch_size=4\n",
      "0/30, 0.04s, 0.04s\n",
      "8/30, 0.03s, 0.07s\n",
      "16/30, 0.03s, 0.10s\n",
      "24/30, 0.02s, 0.12s\n",
      "Processing directly from provided QCElemental molecules...\n",
      "Processing 30 dimers from provided QCElemental molecules...\n",
      "Creating data objects...\n",
      "len(RAs)=30, self.atomic_batch_size=8, self.batch_size=4\n",
      "0/30, 0.03s, 0.03s\n",
      "8/30, 0.03s, 0.06s\n",
      "16/30, 0.03s, 0.09s\n",
      "24/30, 0.02s, 0.12s\n",
      "self.root='data_dir', self.spec_type=None, self.in_memory=True\n",
      "apnet2_module_dataset(30)\n",
      "cell finished on hpc_cpu.\n"
     ]
    },
    {
     "name": "stderr",
     "output_type": "stream",
     "text": [
      "Processing...\n",
      "Done!\n",
      "Processing...\n",
      "Done!\n"
     ]
    }
   ],
   "source": [
    "# Training models on new QM data: Transfer Learning\n",
    "\n",
    "from apnet_pt import pairwise_datasets\n",
    "\n",
    "ds2 = pairwise_datasets.apnet2_module_dataset(\n",
    "    root=\"data_dir\",\n",
    "    spec_type=None,\n",
    "    atom_model=atom_model,\n",
    "    qcel_molecules=df_plot['qcel_molecule'].tolist(),\n",
    "    energy_labels=[np.array([i]) for i in df_plot['reference'].tolist()],\n",
    "    skip_compile=True,\n",
    "    force_reprocess=True,\n",
    "    atomic_batch_size=8,\n",
    "    prebatched=False,\n",
    "    in_memory=True,\n",
    "    batch_size=4,\n",
    ")\n",
    "print(ds2)"
   ]
  },
  {
   "cell_type": "code",
   "execution_count": 41,
   "metadata": {
    "jukit_cell_id": "xXslqNQSRI"
   },
   "outputs": [
    {
     "name": "stdout",
     "output_type": "stream",
     "text": [
      "executing cell on hpc_cpu...\n",
      "waiting for cell to finish on hpc_cpu...\n",
      "Saving training results to...\n",
      "apnet2_transfer_learning.pt\n",
      "~~ Training APNet2Model ~~\n",
      "    Training on 24 samples, Testing on 6 samples\n",
      "\n",
      "Network Hyperparameters:\n",
      "  self.model.n_message=3\n",
      "  self.model.n_neuron=128\n",
      "  self.model.n_embed=8\n",
      "  self.model.n_rbf=8\n",
      "  self.model.r_cut=5.0\n",
      "  self.model.r_cut_im=8.0\n",
      "\n",
      "Training Hyperparameters:\n",
      "  n_epochs=50\n",
      "  lr=0.0005\n",
      "\n",
      "  lr_decay=None\n",
      "\n",
      "  batch_size=4\n",
      "Running single-process training\n",
      "                                       Total\n",
      "  (Pre-training) (0.69   s)  MAE:   1.608/0.621  \n",
      "  EPOCH:    0 (0.54   s)  MAE:   1.492/0.337   *\n",
      "  EPOCH:    1 (0.53   s)  MAE:   2.866/1.097    \n",
      "  EPOCH:    2 (0.61   s)  MAE:   1.990/0.497    \n",
      "  EPOCH:    3 (0.52   s)  MAE:   1.762/1.330    \n",
      "  EPOCH:    4 (0.59   s)  MAE:   1.997/0.310   *\n",
      "  EPOCH:    5 (0.57   s)  MAE:   1.004/0.993    \n",
      "  EPOCH:    6 (0.57   s)  MAE:   1.008/0.530    \n",
      "  EPOCH:    7 (0.54   s)  MAE:   1.032/0.419    \n",
      "  EPOCH:    8 (0.58   s)  MAE:   0.613/0.499    \n",
      "  EPOCH:    9 (0.53   s)  MAE:   0.724/0.612    \n",
      "  EPOCH:   10 (0.55   s)  MAE:   0.458/0.246   *\n",
      "  EPOCH:   11 (0.55   s)  MAE:   0.462/0.403    \n",
      "  EPOCH:   12 (0.58   s)  MAE:   0.225/0.515    \n",
      "  EPOCH:   13 (0.54   s)  MAE:   0.267/0.454    \n",
      "  EPOCH:   14 (0.55   s)  MAE:   0.200/0.352    \n",
      "  EPOCH:   15 (0.54   s)  MAE:   0.187/0.407    \n",
      "  EPOCH:   16 (0.56   s)  MAE:   0.156/0.413    \n",
      "  EPOCH:   17 (0.53   s)  MAE:   0.134/0.345    \n",
      "  EPOCH:   18 (0.51   s)  MAE:   0.125/0.356    \n",
      "  EPOCH:   19 (0.54   s)  MAE:   0.084/0.378    \n",
      "  EPOCH:   20 (0.54   s)  MAE:   0.082/0.356    \n",
      "  EPOCH:   21 (0.56   s)  MAE:   0.070/0.351    \n",
      "  EPOCH:   22 (0.54   s)  MAE:   0.061/0.358    \n",
      "  EPOCH:   23 (0.57   s)  MAE:   0.058/0.360    \n",
      "  EPOCH:   24 (0.55   s)  MAE:   0.051/0.358    \n",
      "  EPOCH:   25 (0.52   s)  MAE:   0.047/0.362    \n",
      "  EPOCH:   26 (0.62   s)  MAE:   0.043/0.362    \n",
      "  EPOCH:   27 (0.56   s)  MAE:   0.041/0.360    \n",
      "  EPOCH:   28 (0.59   s)  MAE:   0.037/0.359    \n",
      "  EPOCH:   29 (0.59   s)  MAE:   0.036/0.358    \n",
      "  EPOCH:   30 (0.55   s)  MAE:   0.036/0.360    \n",
      "  EPOCH:   31 (0.55   s)  MAE:   0.035/0.358    \n",
      "  EPOCH:   32 (0.52   s)  MAE:   0.031/0.357    \n",
      "  EPOCH:   33 (0.56   s)  MAE:   0.031/0.356    \n",
      "  EPOCH:   34 (0.53   s)  MAE:   0.029/0.353    \n",
      "  EPOCH:   35 (0.54   s)  MAE:   0.027/0.352    \n",
      "  EPOCH:   36 (0.57   s)  MAE:   0.026/0.349    \n",
      "  EPOCH:   37 (0.57   s)  MAE:   0.025/0.349    \n",
      "  EPOCH:   38 (0.59   s)  MAE:   0.024/0.347    \n",
      "  EPOCH:   39 (0.54   s)  MAE:   0.022/0.346    \n",
      "  EPOCH:   40 (0.54   s)  MAE:   0.021/0.344    \n",
      "  EPOCH:   41 (0.58   s)  MAE:   0.019/0.342    \n",
      "  EPOCH:   42 (0.53   s)  MAE:   0.018/0.344    \n",
      "  EPOCH:   43 (0.61   s)  MAE:   0.018/0.343    \n",
      "  EPOCH:   44 (0.56   s)  MAE:   0.017/0.344    \n",
      "  EPOCH:   45 (0.54   s)  MAE:   0.016/0.344    \n",
      "  EPOCH:   46 (0.54   s)  MAE:   0.015/0.343    \n",
      "  EPOCH:   47 (0.53   s)  MAE:   0.013/0.344    \n",
      "  EPOCH:   48 (0.55   s)  MAE:   0.013/0.344    \n",
      "  EPOCH:   49 (0.55   s)  MAE:   0.011/0.345    \n",
      "cell finished on hpc_cpu.\n"
     ]
    }
   ],
   "source": [
    "# Transfer Learning APNet2 model on computed QM data\n",
    "ap2.train(\n",
    "    dataset=ds2,\n",
    "    n_epochs=50,\n",
    "    transfer_learning=True,\n",
    "    skip_compile=True,\n",
    "    model_path=\"apnet2_transfer_learning.pt\",\n",
    "    split_percent=0.8,\n",
    ")"
   ]
  },
  {
   "cell_type": "code",
   "execution_count": 42,
   "metadata": {
    "jukit_cell_id": "KPOeFMBhWm"
   },
   "outputs": [
    {
     "name": "stdout",
     "output_type": "stream",
     "text": [
      "executing cell on hpc_cpu...\n",
      "waiting for cell to finish on hpc_cpu...\n",
      "Plotting S22-IE-AP2-tf.png\n",
      "S22-IE-AP2-tf_violin.png\n"
     ]
    },
    {
     "data": {
      "text/plain": [
       "<Figure size 3840x2880 with 0 Axes>"
      ]
     },
     "metadata": {},
     "output_type": "display_data"
    },
    {
     "data": {
      "image/png": "[encoded data removed]",
      "text/plain": [
       "<Figure size 600x400 with 1 Axes>"
      ]
     },
     "metadata": {},
     "output_type": "display_data"
    },
    {
     "name": "stdout",
     "output_type": "stream",
     "text": [
      "cell finished on hpc_cpu.\n"
     ]
    }
   ],
   "source": [
    "# AP-Net2 IE\n",
    "apnet2_ies_predicted_transfer = ap2.predict_qcel_mols(\n",
    "    mols=df_plot['qcel_molecule'].tolist(),\n",
    "    batch_size=16,\n",
    ")\n",
    "df_plot['APNet2 transfer'] = np.sum(apnet2_ies_predicted_transfer, axis=1)\n",
    "df_plot['APNet2 transfer error'] = (df_plot['APNet2 transfer'] - df_plot['reference']).astype(float)\n",
    "\n",
    "error_statistics.violin_plot(\n",
    "    df_plot,\n",
    "    df_labels_and_columns={\n",
    "        \"HF/6-31G*\": \"HF/6-31G* error\",\n",
    "        # \"svwn/6-31G*\": \"svwn/6-31G* error\",\n",
    "        # \"PBE/6-31G*\": \"PBE/6-31G* error\",\n",
    "        \"SAPT0/aug-cc-pvdz\": \"SAPT0/aug-cc-pvdz error\",\n",
    "        \"APNet2\": \"APNet2 error\",\n",
    "        \"APNet2 transfer\": \"APNet2 transfer error\",\n",
    "    },\n",
    "    output_filename=\"S22-IE-AP2-tf.png\",\n",
    "    rcParams={},\n",
    "    usetex=False,\n",
    "    figure_size=(6, 4),\n",
    "    ylabel=r\"IE Error vs. CCSD(T)/CBS (kcal/mol)\",\n",
    ")\n",
    "plt.show()"
   ]
  },
  {
   "cell_type": "markdown",
   "metadata": {
    "jukit_cell_id": "M3Q6tUC2AJ"
   },
   "source": [
    "## $\\Delta$ Models\n",
    "Another option available in QCMLForge is to train $\\Delta {\\rm APNet2}$ models \n",
    "to predict the difference between one level of theory and another. This\n",
    "example highlights learning how to go from our computed HF/6-31G* IEs\n",
    "to our CCSD(T)/CBS energies."
   ]
  },
  {
   "cell_type": "code",
   "execution_count": 43,
   "metadata": {
    "jukit_cell_id": "ROLVxSHnj2"
   },
   "outputs": [
    {
     "name": "stdout",
     "output_type": "stream",
     "text": [
      "executing cell on hpc_cpu...\n",
      "waiting for cell to finish on hpc_cpu...\n",
      "Received 30 QCElemental molecules with energy labels\n",
      "running on the CPU\n",
      "running on the CPU\n",
      "Loading pre-trained APNet2_MPNN model from /dev/shm/scratch/envs/7d012ce2/lib/python3.10/site-packages/apnet_pt/models/ap2_ensemble/ap2_0.pt\n",
      "self.dataset=None\n",
      "raw_path: data_dir/raw/splinter_spec1.pkl\n",
      "Loading dimers...\n",
      "Creating data objects...\n",
      "len(qcel_mols)=30, self.batch_size=2\n"
     ]
    },
    {
     "name": "stderr",
     "output_type": "stream",
     "text": [
      "Processing...\n"
     ]
    },
    {
     "name": "stdout",
     "output_type": "stream",
     "text": [
      "raw_path: data_dir/raw/splinter_spec1.pkl\n",
      "Loading dimers...\n",
      "Creating data objects...\n",
      "len(qcel_mols)=30, self.batch_size=2\n",
      "self.root='data_dir', self.spec_type=None, self.in_memory=True\n",
      "raw_path: data_dir/raw/splinter_spec1.pkl\n",
      "Loading dimers...\n",
      "Saving to data_dir/processed_delta/targets_HF6-31G_to_CCSD_LP_T_RP_CBS.pt\n",
      "dapnet2_module_dataset_apnetStored(15)\n",
      "cell finished on hpc_cpu.\n"
     ]
    },
    {
     "name": "stderr",
     "output_type": "stream",
     "text": [
      "Done!\n",
      "Processing...\n",
      "Done!\n"
     ]
    }
   ],
   "source": [
    "from apnet_pt.pt_datasets.dapnet_ds import dapnet2_module_dataset_apnetStored\n",
    "\n",
    "delta_energies = df_plot['HF/6-31G* error'].tolist()\n",
    "\n",
    "# Only operates in pre-batched mode\n",
    "ds_dap2 = dapnet2_module_dataset_apnetStored(\n",
    "    root=\"data_dir\",\n",
    "    r_cut=5.0,\n",
    "    r_cut_im=8.0,\n",
    "    spec_type=None,\n",
    "    max_size=None,\n",
    "    force_reprocess=True,\n",
    "    batch_size=2,\n",
    "    num_devices=1,\n",
    "    skip_processed=False,\n",
    "    skip_compile=True,\n",
    "    print_level=2,\n",
    "    in_memory=True,\n",
    "    m1=\"HF/6-31G*\",\n",
    "    m2=\"CCSD(T)/CBS\",\n",
    "    qcel_molecules=df_plot['qcel_molecule'].tolist(),\n",
    "    energy_labels=delta_energies,\n",
    ")\n",
    "print(ds_dap2)"
   ]
  },
  {
   "cell_type": "code",
   "execution_count": 44,
   "metadata": {
    "jukit_cell_id": "jfEVLnbL5w"
   },
   "outputs": [
    {
     "name": "stdout",
     "output_type": "stream",
     "text": [
      "executing cell on hpc_cpu...\n",
      "waiting for cell to finish on hpc_cpu...\n",
      "running on the CPU\n",
      "running on the CPU\n",
      "self.dataset=None\n",
      "running on the CPU\n",
      "None\n",
      "Saving training results to...\n",
      "None\n",
      "~~ Training APNet2Model ~~\n",
      "    Training on 9 samples, Testing on 6 samples\n",
      "\n",
      "Network Hyperparameters:\n",
      "  self.model.n_neuron=128\n",
      "\n",
      "Training Hyperparameters:\n",
      "  n_epochs=50\n",
      "  lr=0.0005\n",
      "\n",
      "  lr_decay=None\n",
      "\n",
      "  batch_size=1\n",
      "Running single-process training\n",
      "num_workers = 4\n",
      "                                       Energy\n",
      "  (Pre-training) (0.30   s)  MAE:   1.337/1.744  \n",
      "  EPOCH:    0 (0.33   s)  MAE:   1.095/1.066   *\n",
      "  EPOCH:    1 (0.34   s)  MAE:   0.864/0.856   *\n",
      "  EPOCH:    2 (0.34   s)  MAE:   0.814/0.906    \n",
      "  EPOCH:    3 (0.34   s)  MAE:   0.686/1.033    \n",
      "  EPOCH:    4 (0.34   s)  MAE:   0.673/1.020    \n",
      "  EPOCH:    5 (0.34   s)  MAE:   0.619/1.051    \n",
      "  EPOCH:    6 (0.34   s)  MAE:   0.603/1.078    \n",
      "  EPOCH:    7 (0.34   s)  MAE:   0.615/1.053    \n",
      "  EPOCH:    8 (0.32   s)  MAE:   0.588/1.103    \n",
      "  EPOCH:    9 (0.38   s)  MAE:   0.590/1.086    \n",
      "  EPOCH:   10 (0.32   s)  MAE:   0.581/1.115    \n",
      "  EPOCH:   11 (0.36   s)  MAE:   0.535/1.094    \n",
      "  EPOCH:   12 (0.30   s)  MAE:   0.520/1.085    \n",
      "  EPOCH:   13 (0.32   s)  MAE:   0.540/1.102    \n",
      "  EPOCH:   14 (0.35   s)  MAE:   0.484/1.102    \n",
      "  EPOCH:   15 (0.33   s)  MAE:   0.449/1.133    \n",
      "  EPOCH:   16 (0.34   s)  MAE:   0.453/1.138    \n",
      "  EPOCH:   17 (0.34   s)  MAE:   0.471/1.071    \n",
      "  EPOCH:   18 (0.37   s)  MAE:   0.395/1.185    \n",
      "  EPOCH:   19 (0.35   s)  MAE:   0.445/0.998    \n",
      "  EPOCH:   20 (0.32   s)  MAE:   0.375/1.155    \n",
      "  EPOCH:   21 (0.35   s)  MAE:   0.331/1.083    \n",
      "  EPOCH:   22 (0.33   s)  MAE:   0.295/1.069    \n",
      "  EPOCH:   23 (0.35   s)  MAE:   0.299/1.037    \n",
      "  EPOCH:   24 (0.39   s)  MAE:   0.274/1.038    \n",
      "  EPOCH:   25 (0.35   s)  MAE:   0.263/1.039    \n",
      "  EPOCH:   26 (0.36   s)  MAE:   0.253/1.017    \n",
      "  EPOCH:   27 (0.36   s)  MAE:   0.218/1.050    \n",
      "  EPOCH:   28 (0.34   s)  MAE:   0.217/0.946    \n",
      "  EPOCH:   29 (0.35   s)  MAE:   0.264/1.040    \n",
      "  EPOCH:   30 (0.38   s)  MAE:   0.226/0.992    \n",
      "  EPOCH:   31 (0.37   s)  MAE:   0.237/0.885    \n",
      "  EPOCH:   32 (0.37   s)  MAE:   0.201/1.028    \n",
      "  EPOCH:   33 (0.33   s)  MAE:   0.223/0.858    \n",
      "  EPOCH:   34 (0.31   s)  MAE:   0.215/1.034    \n",
      "  EPOCH:   35 (0.36   s)  MAE:   0.192/0.881    \n",
      "  EPOCH:   36 (0.34   s)  MAE:   0.146/0.916    \n",
      "  EPOCH:   37 (0.36   s)  MAE:   0.148/0.816    \n",
      "  EPOCH:   38 (0.35   s)  MAE:   0.156/0.978    \n",
      "  EPOCH:   39 (0.37   s)  MAE:   0.187/0.777   *\n",
      "  EPOCH:   40 (0.36   s)  MAE:   0.226/1.048    \n",
      "  EPOCH:   41 (0.34   s)  MAE:   0.228/0.796   *\n",
      "  EPOCH:   42 (0.33   s)  MAE:   0.250/0.920    \n",
      "  EPOCH:   43 (0.33   s)  MAE:   0.182/0.846    \n",
      "  EPOCH:   44 (0.32   s)  MAE:   0.155/0.846    \n",
      "  EPOCH:   45 (0.35   s)  MAE:   0.123/0.821    \n",
      "  EPOCH:   46 (0.32   s)  MAE:   0.116/0.843    \n",
      "  EPOCH:   47 (0.34   s)  MAE:   0.103/0.844    \n",
      "  EPOCH:   48 (0.34   s)  MAE:   0.107/0.842    \n",
      "  EPOCH:   49 (0.35   s)  MAE:   0.124/0.756    \n",
      "cell finished on hpc_cpu.\n"
     ]
    }
   ],
   "source": [
    "from apnet_pt.AtomPairwiseModels.dapnet2 import dAPNet2Model\n",
    "\n",
    "dap2 = dAPNet2Model(\n",
    "    atom_model=AtomModel().set_pretrained_model(model_id=0),\n",
    "    apnet2_model=APNet2Model().set_pretrained_model(model_id=0).set_return_hidden_states(True),\n",
    ")\n",
    "dap2.train(\n",
    "    ds_dap2,\n",
    "    n_epochs=50,\n",
    "    skip_compile=True,\n",
    "    split_percent=0.6,\n",
    ")"
   ]
  },
  {
   "cell_type": "code",
   "execution_count": 45,
   "metadata": {
    "jukit_cell_id": "BbSVmmebsN"
   },
   "outputs": [
    {
     "name": "stdout",
     "output_type": "stream",
     "text": [
      "executing cell on hpc_cpu...\n",
      "waiting for cell to finish on hpc_cpu...\n",
      "            dAPNet2  HF/6-31G* HF/6-31G*-dAPNet2  reference\n",
      "entry                                                      \n",
      "LoS-IE-0   3.248750  -15.29702         -18.54577    -18.075\n",
      "LoS-IE-1   0.466985  -4.790555         -5.257541     -5.220\n",
      "LoS-IE-2   1.215914      -3.52         -4.735914     -4.700\n",
      "LoS-IE-3   0.272148  -0.441187         -0.713335     -0.420\n",
      "LoS-IE-4   0.513116  -8.814418         -9.327534     -9.210\n",
      "LoS-IE-5   5.053087 -14.037943         -19.09103    -18.790\n",
      "LoS-IE-6   0.738325   -4.02006         -4.758385     -4.570\n",
      "LoS-IE-7   0.103771  -3.383401         -3.487172     -3.528\n",
      "LoS-IE-8   1.533900  -6.188112         -7.722011     -7.460\n",
      "LoS-IE-9   4.860149  -14.98262        -19.842769    -19.650\n",
      "LoS-IE-10  0.099718   -1.21354         -1.313258     -1.200\n",
      "LoS-IE-11 -2.975640 -35.661351        -32.685711    -32.500\n",
      "LoS-IE-12  0.409894  -0.971568         -1.381462     -1.310\n",
      "LoS-IE-13  1.421061  -1.773877         -3.194938     -3.130\n",
      "LoS-IE-14  0.124335  -2.259595          -2.38393     -2.323\n",
      "LoS-IE-15  2.013731  -6.122734         -8.136464     -8.080\n",
      "LoS-IE-16  0.330719  -3.734485         -4.065204     -3.940\n",
      "LoS-IE-17  0.489301  -4.476686         -4.965987     -4.740\n",
      "LoS-IE-18  2.272833 -12.923075        -15.195908    -16.760\n",
      "LoS-IE-19  0.935307   -4.47534         -5.410647     -4.950\n",
      "LoS-IE-20  0.212051  -2.774148         -2.986199     -3.010\n",
      "LoS-IE-21  2.196406 -12.179219        -14.375625    -16.344\n",
      "LoS-IE-22  1.072556  -4.750366         -5.822922     -6.830\n",
      "LoS-IE-23  2.044594 -14.021562        -16.066155    -15.517\n",
      "LoS-IE-24  0.231502  -6.375201         -6.606703     -6.597\n",
      "LoS-IE-25  1.519283  -1.746296         -3.265579     -4.150\n",
      "LoS-IE-26  0.232598  -1.035838         -1.268435     -1.010\n",
      "LoS-IE-27  0.228870   -0.33357          -0.56244     -0.390\n",
      "LoS-IE-28  0.037968  -0.642005         -0.679973     -0.661\n",
      "LoS-IE-29  3.254632  -10.38738        -13.642012    -15.796\n",
      "Plotting S22-IE-AP2-dAP2.png\n",
      "S22-IE-AP2-dAP2_violin.png\n"
     ]
    },
    {
     "data": {
      "text/plain": [
       "<Figure size 3840x2880 with 0 Axes>"
      ]
     },
     "metadata": {},
     "output_type": "display_data"
    },
    {
     "data": {
      "image/png": "[encoded data removed]",
      "text/plain": [
       "<Figure size 600x400 with 1 Axes>"
      ]
     },
     "metadata": {},
     "output_type": "display_data"
    },
    {
     "name": "stdout",
     "output_type": "stream",
     "text": [
      "cell finished on hpc_cpu.\n"
     ]
    }
   ],
   "source": [
    "dAPNet2_ies_predicted_transfer = dap2.predict_qcel_mols(\n",
    "    mols=df_plot['qcel_molecule'].tolist(),\n",
    "    batch_size=2,\n",
    ")\n",
    "df_plot['dAPNet2'] = dAPNet2_ies_predicted_transfer\n",
    "df_plot['HF/6-31G*-dAPNet2'] = df_plot['HF/6-31G*'] - df_plot['dAPNet2']\n",
    "print(df_plot[['dAPNet2', 'HF/6-31G*', 'HF/6-31G*-dAPNet2',  'reference']])\n",
    "df_plot['dAPNet2 error'] = (df_plot['HF/6-31G*-dAPNet2'] - df_plot['reference']).astype(float)\n",
    "\n",
    "error_statistics.violin_plot(\n",
    "    df_plot,\n",
    "    df_labels_and_columns={\n",
    "        \"HF/6-31G*\": \"HF/6-31G* error\",\n",
    "        # \"svwn/6-31G*\": \"svwn/6-31G* error\",\n",
    "        # \"PBE/6-31G*\": \"PBE/6-31G* error\",\n",
    "        \"SAPT0/aug-cc-pvdz\": \"SAPT0/aug-cc-pvdz error\",\n",
    "        \"APNet2\": \"APNet2 error\",\n",
    "        \"APNet2 transfer\": \"APNet2 transfer error\",\n",
    "        \"dAPNet2 HF/6-31G* to CCSD(T)/CBS\": \"dAPNet2 error\",\n",
    "    },\n",
    "    output_filename=\"S22-IE-AP2-dAP2.png\",\n",
    "    rcParams={},\n",
    "    usetex=False,\n",
    "    figure_size=(6, 4),\n",
    "    ylabel=r\"IE Error vs. CCSD(T)/CBS (kcal/mol)\",\n",
    ")\n",
    "plt.show()"
   ]
  },
  {
   "cell_type": "code",
   "execution_count": 46,
   "metadata": {
    "jukit_cell_id": "OVVcYRXWUA"
   },
   "outputs": [
    {
     "name": "stdout",
     "output_type": "stream",
     "text": [
      "executing cell on hpc_cpu...\n",
      "waiting for cell to finish on hpc_cpu...\n",
      "cell finished on hpc_cpu.\n"
     ]
    }
   ],
   "source": [
    "qcf_compute_manager_proc.terminate()\n",
    "qcf_server_proc.terminate()"
   ]
  },
  {
   "cell_type": "code",
   "execution_count": 47,
   "metadata": {},
   "outputs": [
    {
     "name": "stdout",
     "output_type": "stream",
     "text": [
      "Terminated runtime=hpc_cpu. state={'experimentId': 'CS_Agent_7ff0c4e1-96de-460a-82d5-751d8479c398', 'terminated': True}\n"
     ]
    }
   ],
   "source": [
    "%stop_runtime hpc_cpu"
   ]
  },
  {
   "cell_type": "markdown",
   "metadata": {
    "jukit_cell_id": "H2TTLmA061"
   },
   "source": [
    "# The end...\n",
    "\n",
    "This notebook has been designed to help demonstrate how QCArchive can be used to\n",
    "compute QM properties through cybershuttle, and then leverage that data for\n",
    "analysis or training AP-Net based models through QCMLForge. \n",
    "\n",
    "If you have any questions about this notebook or used packages, please feel\n",
    "free to reach out to me at awallace43@gatech.edu!"
   ]
  }
 ],
 "metadata": {
  "anaconda-cloud": {},
  "kernelspec": {
   "display_name": "Python 3",
   "language": "python",
   "name": "python3"
  },
  "language_info": {
   "codemirror_mode": {
    "name": "ipython",
    "version": 3
   },
   "file_extension": ".py",
   "mimetype": "text/x-python",
   "name": "python",
   "nbconvert_exporter": "python",
   "pygments_lexer": "ipython3",
   "version": "3.10.16"
  }
 },
 "nbformat": 4,
 "nbformat_minor": 4
}
